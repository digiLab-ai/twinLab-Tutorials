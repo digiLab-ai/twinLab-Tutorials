{
 "cells": [
  {
   "cell_type": "markdown",
   "metadata": {},
   "source": [
    "# **Updating emulators**\n",
    "\n",
    "Training an emulator involves learning suitable parameters from your training data; this is what defines your emulator.\n",
    "\n",
    "When running a `Recommend` workflow it is very common to query the emulator to get a new $(x_{i}, y_{i})$ pair. This new data point could then be used to improve the emulator. Completely re-training (re-fitting the parameters according to the new data) can be inefficient and expensive if we plan to do this after adding a single data point everytime, so this is another way of including new information from this data point.\n",
    "\n",
    "In `twinLab` this is done with the `update()` method."
   ]
  },
  {
   "cell_type": "markdown",
   "metadata": {},
   "source": [
    "In this Jupyter Notebook you will: \n",
    "\n",
    "1. [Create an example dataset, and train your emulator.](#1-get-and-train-an-example-dataset)\n",
    "2. [Visualize your trained emulator](#2-visualize-your-trained-emulator).\n",
    "3. [Find new data points from your trained emulator with `Emulator.recommend`.](#3-use-recommend-to-explore-your-emulator) \n",
    "4. [Update your emulator with recommended data points](#4-update-your-emulator-with-your-recommend-results).\n",
    "5. [Visualize your updated emulator](#5-visualize-your-updated-emulator)."
   ]
  },
  {
   "cell_type": "code",
   "execution_count": 1,
   "metadata": {},
   "outputs": [
    {
     "name": "stdout",
     "output_type": "stream",
     "text": [
      "\n",
      "          ====== TwinLab Client Initialisation ======\n",
      "          Version     : 2.13.0\n",
      "          User        : michelle@digilab.co.uk\n",
      "          Server      : https://nqk5pxyb32.execute-api.eu-west-2.amazonaws.com/michelle/\n",
      "          Environment : /Users/michellebieger/Documents/digi/twinLab/tutorials/.env\n",
      "\n"
     ]
    }
   ],
   "source": [
    "# Third party imports\n",
    "import pandas as pd\n",
    "import numpy as np\n",
    "import matplotlib.pyplot as plt\n",
    "\n",
    "# twinLab import\n",
    "import twinlab as tl"
   ]
  },
  {
   "cell_type": "markdown",
   "metadata": {},
   "source": [
    "Make sure you set up your API key and other information to be able to use `twinLab`, either through a `.env` file, using `secrets`, or through `tl.set_user`/`tl.set_api_key`. "
   ]
  },
  {
   "cell_type": "markdown",
   "metadata": {},
   "source": [
    "### **1. Create an example dataset**\n",
    "\n",
    "In this tutorial you will treat the below Forrestor function as a simulator. You'll create an example dataset using the function, which has a single input variable \"x\" and a single output, or response, variable \"y\". "
   ]
  },
  {
   "cell_type": "code",
   "execution_count": 2,
   "metadata": {},
   "outputs": [
    {
     "data": {
      "image/png": "[encoded data removed]",
      "text/plain": [
       "<Figure size 550x450 with 1 Axes>"
      ]
     },
     "metadata": {},
     "output_type": "display_data"
    }
   ],
   "source": [
    "# Define the function - this will be used as your simulator later on\n",
    "def forrester_function(x, a=6, b=12):\n",
    "     return (a * x - 2) ** 2 * np.sin(b * x - 4)\n",
    "\n",
    "X = np.linspace(0, 1, 100)\n",
    "y = forrester_function(X)\n",
    "\n",
    "# Set up your training dataframe\n",
    "X_data = np.array([0.12, 0.311, 0.409, 0.502, 0.598, 0.921, 0.9765])\n",
    "y_data = []\n",
    "for i in X_data:\n",
    "    y_data.append(forrester_function(i) + np.random.normal(scale=0.1))\n",
    "\n",
    "# Visualize your data\n",
    "plt.figure(figsize=(5.5, 4.5))\n",
    "# Plot the modelled function \n",
    "plt.plot(X, y, color=\"tab:orange\", label=\"Target function\")\n",
    "# Plot the training data \n",
    "plt.scatter(X_data, y_data, color=\"k\", label=\"Training Data\")\n",
    "\n",
    "plt.xlabel(\"Input\")\n",
    "plt.ylabel(\"Quantity of Interest\")\n",
    "\n",
    "# Make sure to add a legend\n",
    "plt.legend()\n",
    "plt.show()"
   ]
  },
  {
   "cell_type": "markdown",
   "metadata": {},
   "source": [
    "Using the `upload` method, you can then upload the `Dataset` to your `twinLab` cloud account. "
   ]
  },
  {
   "cell_type": "code",
   "execution_count": 3,
   "metadata": {},
   "outputs": [],
   "source": [
    "# Convert to DataFrame\n",
    "df_train = pd.DataFrame({\"x\": X_data, \"y\": y_data})\n",
    "\n",
    "# Initialise a Dataset object and give it a name\n",
    "dataset = tl.Dataset(\"forrester_function\")\n",
    "\n",
    "# Upload the dataset, passing in the dataframe\n",
    "dataset.upload(df_train)"
   ]
  },
  {
   "cell_type": "markdown",
   "metadata": {},
   "source": [
    "Next, you need to define your emulator. "
   ]
  },
  {
   "cell_type": "code",
   "execution_count": 4,
   "metadata": {},
   "outputs": [],
   "source": [
    "# Initialise emulator\n",
    "emulator_id = \"forrester_function_emulator\"\n",
    "\n",
    "emulator = tl.Emulator(id=emulator_id)"
   ]
  },
  {
   "cell_type": "markdown",
   "metadata": {},
   "source": [
    "When you want to train a model, you pass on your training requirements via arguments using a `TrainParams` object. `TrainParams` is a class that contains all the necessary parameters needed to train your model.\n",
    "\n",
    "The `TrainParams` object has a lot of other parameters to customise your training including dimensionality reduction, type of estimator, automatic model selection and many others. Refer to the [twinLab-docs](https://twinlab.ai/python/reference/parameters.html#api-parameters) for more information."
   ]
  },
  {
   "cell_type": "code",
   "execution_count": 5,
   "metadata": {},
   "outputs": [],
   "source": [
    "# Define the training parameters for your emulator\n",
    "params = tl.TrainParams(train_test_ratio=1.0)"
   ]
  },
  {
   "cell_type": "markdown",
   "metadata": {},
   "source": [
    "Then, to train your model, you use the `Emulator.train` function, and input your `TrainParams` object as an argument to this function. \n",
    "\n",
    "In this example, we will just define the `train_test_ratio` parameter, which specifies the amount of data that has to be allocated to emulator training from your entire dataset."
   ]
  },
  {
   "cell_type": "code",
   "execution_count": 6,
   "metadata": {},
   "outputs": [
    {
     "name": "stdout",
     "output_type": "stream",
     "text": [
      "Emulator 'forrester_function_emulator' has begun training.\n",
      "0:00:00: Job status: processing\n",
      "0:00:01: Job status: success\n",
      "Training of emulator forrester_function_emulator is complete!\n"
     ]
    }
   ],
   "source": [
    "# Train the emulator using the train method\n",
    "emulator.train(\n",
    "    dataset=dataset, inputs=[\"x\"], outputs=[\"y\"], params=params, verbose=True\n",
    ")"
   ]
  },
  {
   "cell_type": "markdown",
   "metadata": {},
   "source": [
    "### **2. Visualize your trained emulator**"
   ]
  },
  {
   "cell_type": "markdown",
   "metadata": {},
   "source": [
    "We can use the `Emulator.plot` functionality to plot the mean prediction and the uncertainty band of the emulator.\n",
    "\n",
    "The `Emulator.plot` function internally uses the `Emulator.predict` function, so we are also predicting by calling this. There are a few arguments that can be passed to the `Emulator.predict` function, which can be done using the `tl.PredictParams` object. Refer to the [twinLab Parameter Docs](https://twinlab.ai/python/reference/parameters.html#api-parameters) for more information on the parameter objects."
   ]
  },
  {
   "cell_type": "code",
   "execution_count": 7,
   "metadata": {},
   "outputs": [
    {
     "data": {
      "image/png": "[encoded data removed]",
      "text/plain": [
       "<Figure size 640x480 with 1 Axes>"
      ]
     },
     "metadata": {},
     "output_type": "display_data"
    }
   ],
   "source": [
    "# Plot the trained emulator with the predictions\n",
    "plt = emulator.plot(x_axis=\"x\", y_axis=\"y\", label=\"Emulator predictions\", x_lim=(0, 1))\n",
    "# Add on your training data points \n",
    "plt.scatter(df_train[\"x\"], df_train[\"y\"], color=\"k\", label=\"Training data\",zorder=1)\n",
    "# Make sure to add a legend\n",
    "plt.legend()\n",
    "plt.show()"
   ]
  },
  {
   "cell_type": "markdown",
   "metadata": {},
   "source": [
    "If you check on the processes associated with your emulator, you can see the prediction that you created when using `emulator.plot`."
   ]
  },
  {
   "cell_type": "code",
   "execution_count": 8,
   "metadata": {},
   "outputs": [
    {
     "data": {
      "text/plain": [
       "['predict-mini-tundra-fanatic']"
      ]
     },
     "execution_count": 8,
     "metadata": {},
     "output_type": "execute_result"
    }
   ],
   "source": [
    "emulator.list_processes()"
   ]
  },
  {
   "cell_type": "markdown",
   "metadata": {},
   "source": [
    "You can get the results of the prediction that was made by taking the `'process_id'` generated during the plot function running and running it through `emulator.get_process`."
   ]
  },
  {
   "cell_type": "code",
   "execution_count": 10,
   "metadata": {},
   "outputs": [
    {
     "name": "stdout",
     "output_type": "stream",
     "text": [
      "Mean predictions:\n",
      "            y\n",
      "0   -0.140910\n",
      "1   -0.208113\n",
      "2   -0.270950\n",
      "3   -0.329171\n",
      "4   -0.382537\n",
      "..        ...\n",
      "95  12.058046\n",
      "96  12.462776\n",
      "97  12.852374\n",
      "98  13.224950\n",
      "99  13.578967\n",
      "\n",
      "[100 rows x 1 columns]\n",
      "Standard deviation predictions:\n",
      "           y\n",
      "0   3.768722\n",
      "1   3.600836\n",
      "2   3.437955\n",
      "3   3.281368\n",
      "4   3.132435\n",
      "..       ...\n",
      "95  2.128283\n",
      "96  2.165469\n",
      "97  2.222442\n",
      "98  2.298828\n",
      "99  2.393599\n",
      "\n",
      "[100 rows x 1 columns]\n",
      "Process predict-mini-tundra-fanatic results:\n",
      "(            y\n",
      "0   -0.140910\n",
      "1   -0.208113\n",
      "2   -0.270950\n",
      "3   -0.329171\n",
      "4   -0.382537\n",
      "..        ...\n",
      "95  12.058046\n",
      "96  12.462776\n",
      "97  12.852374\n",
      "98  13.224950\n",
      "99  13.578967\n",
      "\n",
      "[100 rows x 1 columns],            y\n",
      "0   3.768722\n",
      "1   3.600836\n",
      "2   3.437955\n",
      "3   3.281368\n",
      "4   3.132435\n",
      "..       ...\n",
      "95  2.128283\n",
      "96  2.165469\n",
      "97  2.222442\n",
      "98  2.298828\n",
      "99  2.393599\n",
      "\n",
      "[100 rows x 1 columns])\n"
     ]
    }
   ],
   "source": [
    "# process_id = \"<INSERT-PROCESS-ID-HERE>\"\n",
    "process_id = \"predict-mini-tundra-fanatic\"\n",
    "mean, std = emulator.get_process(process_id=process_id,verbose=True)"
   ]
  },
  {
   "cell_type": "markdown",
   "metadata": {},
   "source": [
    "### **3. Use recommend to \"explore\" your emulator**"
   ]
  },
  {
   "cell_type": "markdown",
   "metadata": {},
   "source": [
    "Optimise your emulator starting with just the default Recommend parameters so you can see how best to use the function. \n",
    "\n",
    "Utilising the default `verbose` keyword argument, and putting `wait` as `False` can be helpful if you're waiting on a longer job, as you don't need to wait until the job has finished running on `twinLab` cloud. Instead, you could carry on executing other cells. "
   ]
  },
  {
   "cell_type": "code",
   "execution_count": 11,
   "metadata": {},
   "outputs": [
    {
     "name": "stdout",
     "output_type": "stream",
     "text": [
      "Job recommend process ID: recommend-melted-dust-mozzarella\n"
     ]
    }
   ],
   "source": [
    "recommend_process_id = emulator.recommend(num_points=2, acq_func=\"explore\", wait=False, verbose=True)"
   ]
  },
  {
   "cell_type": "markdown",
   "metadata": {},
   "source": [
    "To then check on the progress of your job, you can use `list_processes_statuses` to see what the status of your inference method is until it finishes. "
   ]
  },
  {
   "cell_type": "code",
   "execution_count": 12,
   "metadata": {},
   "outputs": [
    {
     "data": {
      "text/plain": [
       "[{'process_id': 'predict-mini-tundra-fanatic',\n",
       "  'status': 'success',\n",
       "  'start_time': '2024-09-24T14:00:49.553045+00:00',\n",
       "  'end_time': '2024-09-24T14:00:50.761947+00:00'},\n",
       " {'process_id': 'recommend-melted-dust-mozzarella',\n",
       "  'status': 'success',\n",
       "  'start_time': '2024-09-24T14:01:04.612946+00:00',\n",
       "  'end_time': '2024-09-24T14:01:06.275094+00:00'}]"
      ]
     },
     "execution_count": 12,
     "metadata": {},
     "output_type": "execute_result"
    }
   ],
   "source": [
    "emulator.list_processes_statuses()"
   ]
  },
  {
   "cell_type": "markdown",
   "metadata": {},
   "source": [
    "Using `\"explore\"` has returned two objects--two new recommended samples and the acquisition value. These two new recommended samples are suggested input values that would result in the greatest reduction in the overall uncertainty in the predictions from your emulator. "
   ]
  },
  {
   "cell_type": "markdown",
   "metadata": {},
   "source": [
    "### **4. Update your emulator with your `recommend` results**\n",
    "\n",
    "Let's condition your emulator on the new data points. "
   ]
  },
  {
   "cell_type": "markdown",
   "metadata": {},
   "source": [
    "You can get the candidate points from the `recommend` process by using the `get_process` method."
   ]
  },
  {
   "cell_type": "code",
   "execution_count": 13,
   "metadata": {},
   "outputs": [],
   "source": [
    "candidate_points, acq_funcion_value = emulator.get_process(recommend_process_id)"
   ]
  },
  {
   "cell_type": "markdown",
   "metadata": {},
   "source": [
    "We can then turn these candidate points into new data points by evaluating the simulator at these points. and turning them into a new training data dataframe."
   ]
  },
  {
   "cell_type": "code",
   "execution_count": 14,
   "metadata": {},
   "outputs": [
    {
     "data": {
      "text/html": [
       "<div>\n",
       "<style scoped>\n",
       "    .dataframe tbody tr th:only-of-type {\n",
       "        vertical-align: middle;\n",
       "    }\n",
       "\n",
       "    .dataframe tbody tr th {\n",
       "        vertical-align: top;\n",
       "    }\n",
       "\n",
       "    .dataframe thead th {\n",
       "        text-align: right;\n",
       "    }\n",
       "</style>\n",
       "<table border=\"1\" class=\"dataframe\">\n",
       "  <thead>\n",
       "    <tr style=\"text-align: right;\">\n",
       "      <th></th>\n",
       "      <th>y</th>\n",
       "      <th>x</th>\n",
       "    </tr>\n",
       "  </thead>\n",
       "  <tbody>\n",
       "    <tr>\n",
       "      <th>0</th>\n",
       "      <td>-6.008862</td>\n",
       "      <td>0.761935</td>\n",
       "    </tr>\n",
       "    <tr>\n",
       "      <th>1</th>\n",
       "      <td>-0.900064</td>\n",
       "      <td>0.120000</td>\n",
       "    </tr>\n",
       "  </tbody>\n",
       "</table>\n",
       "</div>"
      ],
      "text/plain": [
       "          y         x\n",
       "0 -6.008862  0.761935\n",
       "1 -0.900064  0.120000"
      ]
     },
     "metadata": {},
     "output_type": "display_data"
    }
   ],
   "source": [
    "# Feed the candidate points to the simulator\n",
    "new_y_data = forrester_function(candidate_points.values.flatten())\n",
    "\n",
    "# Convert the new data to a DataFrame\n",
    "new_y_df = pd.DataFrame({\"y\": new_y_data})\n",
    "\n",
    "# Combine the candidate points with the simulator results to create a new training dataframe\n",
    "new_training_data = pd.concat([new_y_df, candidate_points], axis=1)\n",
    "\n",
    "display(new_training_data)"
   ]
  },
  {
   "cell_type": "markdown",
   "metadata": {},
   "source": [
    "Let's condition the emulator on these new data points using the `update` method. This method updates your emulator stored in the cloud so that next time you use it for inference, it will be conditioned on the new data points."
   ]
  },
  {
   "cell_type": "code",
   "execution_count": 15,
   "metadata": {},
   "outputs": [
    {
     "ename": "TypeCheckError",
     "evalue": "the return value (str) is not None",
     "output_type": "error",
     "traceback": [
      "\u001b[0;31m---------------------------------------------------------------------------\u001b[0m",
      "\u001b[0;31mTypeCheckError\u001b[0m                            Traceback (most recent call last)",
      "Cell \u001b[0;32mIn[15], line 1\u001b[0m\n\u001b[0;32m----> 1\u001b[0m \u001b[43memulator\u001b[49m\u001b[38;5;241;43m.\u001b[39;49m\u001b[43mupdate\u001b[49m\u001b[43m(\u001b[49m\u001b[43mnew_training_data\u001b[49m\u001b[43m,\u001b[49m\u001b[43mwait\u001b[49m\u001b[38;5;241;43m=\u001b[39;49m\u001b[38;5;28;43;01mFalse\u001b[39;49;00m\u001b[43m)\u001b[49m\n",
      "File \u001b[0;32m~/Documents/digi/twinLab/client/python/twinlab/emulator.py:812\u001b[0m, in \u001b[0;36mupdate\u001b[0;34m(self, df, df_std, wait, verbose)\u001b[0m\n\u001b[1;32m    810\u001b[0m     time\u001b[38;5;241m.\u001b[39msleep(NOT_WAIT_TIME)\n\u001b[1;32m    811\u001b[0m     _api\u001b[38;5;241m.\u001b[39mget_emulator_process(\u001b[38;5;28mself\u001b[39m\u001b[38;5;241m.\u001b[39mid, process_id)\n\u001b[0;32m--> 812\u001b[0m     \u001b[38;5;28;01mreturn\u001b[39;00m process_id\n\u001b[1;32m    814\u001b[0m \u001b[38;5;66;03m# Await the completion of the scoring process\u001b[39;00m\n\u001b[1;32m    815\u001b[0m response \u001b[38;5;241m=\u001b[39m _utils\u001b[38;5;241m.\u001b[39mwait_for_job_completion(\n\u001b[1;32m    816\u001b[0m     _api\u001b[38;5;241m.\u001b[39mget_emulator_process, \u001b[38;5;28mself\u001b[39m\u001b[38;5;241m.\u001b[39mid, process_id, verbose\u001b[38;5;241m=\u001b[39mverbose\n\u001b[1;32m    817\u001b[0m )\n",
      "File \u001b[0;32m~/Library/Caches/pypoetry/virtualenvs/twinlab-tutorials-YmWBpc1H-py3.11/lib/python3.11/site-packages/typeguard/_functions.py:165\u001b[0m, in \u001b[0;36mcheck_return_type\u001b[0;34m(func_name, retval, annotation, memo)\u001b[0m\n\u001b[1;32m    162\u001b[0m         \u001b[38;5;28;01mraise\u001b[39;00m exc\n\u001b[1;32m    164\u001b[0m \u001b[38;5;28;01mtry\u001b[39;00m:\n\u001b[0;32m--> 165\u001b[0m     \u001b[43mcheck_type_internal\u001b[49m\u001b[43m(\u001b[49m\u001b[43mretval\u001b[49m\u001b[43m,\u001b[49m\u001b[43m \u001b[49m\u001b[43mannotation\u001b[49m\u001b[43m,\u001b[49m\u001b[43m \u001b[49m\u001b[43mmemo\u001b[49m\u001b[43m)\u001b[49m\n\u001b[1;32m    166\u001b[0m \u001b[38;5;28;01mexcept\u001b[39;00m TypeCheckError \u001b[38;5;28;01mas\u001b[39;00m exc:\n\u001b[1;32m    167\u001b[0m     \u001b[38;5;66;03m# Allow NotImplemented if this is a binary magic method (__eq__() et al)\u001b[39;00m\n\u001b[1;32m    168\u001b[0m     \u001b[38;5;28;01mif\u001b[39;00m retval \u001b[38;5;129;01mis\u001b[39;00m \u001b[38;5;28mNotImplemented\u001b[39m \u001b[38;5;129;01mand\u001b[39;00m annotation \u001b[38;5;129;01mis\u001b[39;00m \u001b[38;5;28mbool\u001b[39m:\n\u001b[1;32m    169\u001b[0m         \u001b[38;5;66;03m# This does (and cannot) not check if it's actually a method\u001b[39;00m\n",
      "File \u001b[0;32m~/Library/Caches/pypoetry/virtualenvs/twinlab-tutorials-YmWBpc1H-py3.11/lib/python3.11/site-packages/typeguard/_checkers.py:861\u001b[0m, in \u001b[0;36mcheck_type_internal\u001b[0;34m(value, annotation, memo)\u001b[0m\n\u001b[1;32m    859\u001b[0m     checker \u001b[38;5;241m=\u001b[39m lookup_func(origin_type, args, extras)\n\u001b[1;32m    860\u001b[0m     \u001b[38;5;28;01mif\u001b[39;00m checker:\n\u001b[0;32m--> 861\u001b[0m         \u001b[43mchecker\u001b[49m\u001b[43m(\u001b[49m\u001b[43mvalue\u001b[49m\u001b[43m,\u001b[49m\u001b[43m \u001b[49m\u001b[43morigin_type\u001b[49m\u001b[43m,\u001b[49m\u001b[43m \u001b[49m\u001b[43margs\u001b[49m\u001b[43m,\u001b[49m\u001b[43m \u001b[49m\u001b[43mmemo\u001b[49m\u001b[43m)\u001b[49m\n\u001b[1;32m    862\u001b[0m         \u001b[38;5;28;01mreturn\u001b[39;00m\n\u001b[1;32m    864\u001b[0m \u001b[38;5;28;01mif\u001b[39;00m isclass(origin_type):\n",
      "File \u001b[0;32m~/Library/Caches/pypoetry/virtualenvs/twinlab-tutorials-YmWBpc1H-py3.11/lib/python3.11/site-packages/typeguard/_checkers.py:620\u001b[0m, in \u001b[0;36mcheck_none\u001b[0;34m(value, origin_type, args, memo)\u001b[0m\n\u001b[1;32m    613\u001b[0m \u001b[38;5;28;01mdef\u001b[39;00m \u001b[38;5;21mcheck_none\u001b[39m(\n\u001b[1;32m    614\u001b[0m     value: Any,\n\u001b[1;32m    615\u001b[0m     origin_type: Any,\n\u001b[1;32m    616\u001b[0m     args: \u001b[38;5;28mtuple\u001b[39m[Any, \u001b[38;5;241m.\u001b[39m\u001b[38;5;241m.\u001b[39m\u001b[38;5;241m.\u001b[39m],\n\u001b[1;32m    617\u001b[0m     memo: TypeCheckMemo,\n\u001b[1;32m    618\u001b[0m ) \u001b[38;5;241m-\u001b[39m\u001b[38;5;241m>\u001b[39m \u001b[38;5;28;01mNone\u001b[39;00m:\n\u001b[1;32m    619\u001b[0m     \u001b[38;5;28;01mif\u001b[39;00m value \u001b[38;5;129;01mis\u001b[39;00m \u001b[38;5;129;01mnot\u001b[39;00m \u001b[38;5;28;01mNone\u001b[39;00m:\n\u001b[0;32m--> 620\u001b[0m         \u001b[38;5;28;01mraise\u001b[39;00m TypeCheckError(\u001b[38;5;124m\"\u001b[39m\u001b[38;5;124mis not None\u001b[39m\u001b[38;5;124m\"\u001b[39m)\n",
      "\u001b[0;31mTypeCheckError\u001b[0m: the return value (str) is not None"
     ]
    }
   ],
   "source": [
    "emulator.update(new_training_data,wait=False)"
   ]
  },
  {
   "cell_type": "markdown",
   "metadata": {},
   "source": [
    "### **5. Visualize your updated emulator**"
   ]
  },
  {
   "cell_type": "code",
   "execution_count": null,
   "metadata": {},
   "outputs": [],
   "source": [
    "# Plot the updated emulator with the predictions\n",
    "plt = emulator.plot(x_axis=\"x\", y_axis=\"y\", label=\"Emulator predictions\", x_lim=(0, 1))\n",
    "\n",
    "# Add on your training data points \n",
    "plt.scatter(df_train[\"x\"], df_train[\"y\"], color=\"k\", label=\"Training data\",zorder=1)\n",
    "\n",
    "# Add greenlines to show the recommended points\n",
    "for x in range(len(new_training_data)): \n",
    "    # Plot recommendation \"x points\" as vertical lines\n",
    "    plt.axvline(x=new_training_data['x'].iloc[x], color=\"#7DB928\",zorder=3)\n",
    "\n",
    "# Make sure to add a legend\n",
    "plt.legend()\n",
    "plt.show()"
   ]
  },
  {
   "cell_type": "markdown",
   "metadata": {},
   "source": [
    "### **Deleting datasets and emulators**\n",
    "\n",
    "You can delete your datasets and emulators to keep your `twinLab` cloud account storage tidy. \n",
    "\n",
    "Please be aware that this is permanent. Always consider keeping your data locally backed up. \n",
    "\n",
    "`Emulator.delete` and `Dataset.delete` delete the emulator and the dataset respectively."
   ]
  },
  {
   "cell_type": "code",
   "execution_count": null,
   "metadata": {},
   "outputs": [],
   "source": [
    "# Delete dataset\n",
    "dataset.delete()\n",
    "\n",
    "# Delete emulator\n",
    "emulator.delete()"
   ]
  }
 ],
 "metadata": {
  "kernelspec": {
   "display_name": "twinlab-models-OKGmZGkp-py3.11",
   "language": "python",
   "name": "python3"
  },
  "language_info": {
   "codemirror_mode": {
    "name": "ipython",
    "version": 3
   },
   "file_extension": ".py",
   "mimetype": "text/x-python",
   "name": "python",
   "nbconvert_exporter": "python",
   "pygments_lexer": "ipython3",
   "version": "3.11.0"
  }
 },
 "nbformat": 4,
 "nbformat_minor": 2
}
