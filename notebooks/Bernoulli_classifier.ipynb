{
 "cells": [
  {
   "cell_type": "markdown",
   "metadata": {},
   "source": [
    "\n",
    "# **Bernoulli classifier**\n",
    "\n",
    "Making accurate predictions about binary outcomes—such as determining whether a signal was received in a communication network—is a common task in engineering workflows. Using Bernoulli's likelihood function, Gaussian Processes (GPs) in `twinLab` offer a powerful and flexible approach to tackling binary classification problems. This combination allows us to capture the underlying probability of a data point belonging to a particular class, enabling more reliable and robust decision-making in engineering applications.\n",
    "\n",
    "This notebook will cover how to:\n",
    "\n",
    "1. [Generate data suitable for classification.](#1.-Generate-data-suitable-for-classification)\n",
    "2. [Upload dataset and train a classification emulator.](#2.-Upload-dataset-and-train-your-emulator)\n",
    "3. [Predict using a classification emulator.](#3.-Predict-using-a-classification-emulator)\n",
    "4. [Visualise the results of the prediction of a classification emulator.](#4.-Viewing-the-results)"
   ]
  },
  {
   "cell_type": "code",
   "execution_count": 1,
   "metadata": {},
   "outputs": [
    {
     "name": "stdout",
     "output_type": "stream",
     "text": [
      "\n",
      "          ====== TwinLab Client Initialisation ======\n",
      "          Version     : 2.10.0\n",
      "          User        : sergio@digilab.co.uk\n",
      "          Server      : http://127.0.0.1:8000\n",
      "          Environment : /Users/sergiochavez/twinLab/.env\n",
      "\n"
     ]
    }
   ],
   "source": [
    "import numpy as np\n",
    "import pandas as pd\n",
    "import matplotlib.pyplot as plt\n",
    "\n",
    "import twinlab as tl"
   ]
  },
  {
   "cell_type": "markdown",
   "metadata": {},
   "source": [
    "Make sure you set up your API key and other information to be able to use `twinLab`, either through a `.env` file, using `secrets`, or through `tl.set_user`/`tl.set_api_key`."
   ]
  },
  {
   "cell_type": "markdown",
   "metadata": {},
   "source": [
    "### **1. Generate data suitable for classification**\n",
    "\n",
    "You can use the following code to simulate a dataset that can be used to train a classification GP. Here, the outputs ('y') are either 0 or 1. "
   ]
  },
  {
   "cell_type": "code",
   "execution_count": null,
   "metadata": {},
   "outputs": [],
   "source": [
    "np.random.seed(123)\n",
    "\n",
    "# Generate train_x\n",
    "train_x = np.random.rand(50)\n",
    "\n",
    "# Generate train_y\n",
    "train_y = np.sign(np.cos(train_x * (4 * np.pi))).astype(float)\n",
    "train_y = (train_y + 1) / 2\n",
    "\n",
    "# True function that underlies the generation of train_x and train_y\n",
    "x = np.linspace(0, 1, 100)\n",
    "y = np.sign(np.cos(x * (4 * np.pi))).astype(float)\n",
    "y = (y + 1) / 2"
   ]
  },
  {
   "cell_type": "markdown",
   "metadata": {},
   "source": [
    "`twinLab` expects data in the form of a `pandas DataFrame`, so we need to take the data we've generated and convert it to this form. "
   ]
  },
  {
   "cell_type": "code",
   "execution_count": null,
   "metadata": {},
   "outputs": [],
   "source": [
    "# Convert generated data to pandas dataframe\n",
    "df = pd.DataFrame({\n",
    "    \"X\": train_x,\n",
    "    \"y\": train_y\n",
    "})"
   ]
  },
  {
   "cell_type": "markdown",
   "metadata": {},
   "source": [
    "Check that the DataFrame looks like you expect it: "
   ]
  },
  {
   "cell_type": "code",
   "execution_count": 2,
   "metadata": {},
   "outputs": [
    {
     "data": {
      "text/html": [
       "<div>\n",
       "<style scoped>\n",
       "    .dataframe tbody tr th:only-of-type {\n",
       "        vertical-align: middle;\n",
       "    }\n",
       "\n",
       "    .dataframe tbody tr th {\n",
       "        vertical-align: top;\n",
       "    }\n",
       "\n",
       "    .dataframe thead th {\n",
       "        text-align: right;\n",
       "    }\n",
       "</style>\n",
       "<table border=\"1\" class=\"dataframe\">\n",
       "  <thead>\n",
       "    <tr style=\"text-align: right;\">\n",
       "      <th></th>\n",
       "      <th>X</th>\n",
       "      <th>y</th>\n",
       "    </tr>\n",
       "  </thead>\n",
       "  <tbody>\n",
       "    <tr>\n",
       "      <th>0</th>\n",
       "      <td>0.696469</td>\n",
       "      <td>0.0</td>\n",
       "    </tr>\n",
       "    <tr>\n",
       "      <th>1</th>\n",
       "      <td>0.286139</td>\n",
       "      <td>0.0</td>\n",
       "    </tr>\n",
       "    <tr>\n",
       "      <th>2</th>\n",
       "      <td>0.226851</td>\n",
       "      <td>0.0</td>\n",
       "    </tr>\n",
       "    <tr>\n",
       "      <th>3</th>\n",
       "      <td>0.551315</td>\n",
       "      <td>1.0</td>\n",
       "    </tr>\n",
       "    <tr>\n",
       "      <th>4</th>\n",
       "      <td>0.719469</td>\n",
       "      <td>0.0</td>\n",
       "    </tr>\n",
       "  </tbody>\n",
       "</table>\n",
       "</div>"
      ],
      "text/plain": [
       "          X    y\n",
       "0  0.696469  0.0\n",
       "1  0.286139  0.0\n",
       "2  0.226851  0.0\n",
       "3  0.551315  1.0\n",
       "4  0.719469  0.0"
      ]
     },
     "execution_count": 2,
     "metadata": {},
     "output_type": "execute_result"
    }
   ],
   "source": [
    "# Display the first few rows of the dataframe\n",
    "df.head()"
   ]
  },
  {
   "cell_type": "markdown",
   "metadata": {},
   "source": [
    "To have a better look of the generated data, you can plot it using the following block of code:"
   ]
  },
  {
   "cell_type": "code",
   "execution_count": 3,
   "metadata": {},
   "outputs": [
    {
     "data": {
      "image/png": "[encoded data removed]",
      "text/plain": [
       "<Figure size 640x480 with 1 Axes>"
      ]
     },
     "metadata": {},
     "output_type": "display_data"
    }
   ],
   "source": [
    "# Plot the generated data\n",
    "plt.scatter(df['X'], df['y']) # Scatter plot of the generated data\n",
    "plt.plot(x, y, color='red',linestyle='dashed', label='True function') # Plot of the true function\n",
    "plt.legend() # Display the legend\n",
    "plt.show()"
   ]
  },
  {
   "cell_type": "markdown",
   "metadata": {},
   "source": [
    "Now, you can train a classification `twinLab` model that identifies the patterns underlying the data and approximates the true function that you established in section one (represented by the red dotted line you generated in the plot)."
   ]
  },
  {
   "cell_type": "markdown",
   "metadata": {},
   "source": [
    "### **2. Upload dataset and train your emulator**\n",
    "\n",
    "To start training, you will have to specify the type of GP (\"classification_gp\") inside `tl.EstimatorParams`. \n",
    "\n",
    "The rest of the process is the same as the one you would follow to train a standard `twinLab` model, with the one caveat that the output (*y*) takes a binary value. "
   ]
  },
  {
   "cell_type": "markdown",
   "metadata": {},
   "source": [
    "Create a `Dataset` with an `id` which is used to access it. Using the `upload` method, you can then upload the `Dataset` to your `twinLab` cloud account."
   ]
  },
  {
   "cell_type": "code",
   "execution_count": null,
   "metadata": {},
   "outputs": [],
   "source": [
    "# Create a Dataset and upload data\n",
    "dataset = tl.Dataset(id=\"classification_df\")\n",
    "dataset.upload(df)"
   ]
  },
  {
   "cell_type": "markdown",
   "metadata": {},
   "source": [
    "Use the `twinLab` `Emulator` class to define an emulator with an `id`, under which your emulator will be saved as in the `twinLab` cloud."
   ]
  },
  {
   "cell_type": "code",
   "execution_count": null,
   "metadata": {},
   "outputs": [],
   "source": [
    "# Create an emulator\n",
    "emulator = tl.Emulator(id=\"classification_emulator\")"
   ]
  },
  {
   "cell_type": "markdown",
   "metadata": {},
   "source": [
    "When you want to train a model, you pass on your training requirements via arguments using a `TrainParams` object. `TrainParams` is a class that contains all the necessary parameters needed to train your model"
   ]
  },
  {
   "cell_type": "code",
   "execution_count": 4,
   "metadata": {},
   "outputs": [
    {
     "name": "stdout",
     "output_type": "stream",
     "text": [
      "Emulator classification_emulator has begun training.\n",
      "0:00:00: Job status: processing\n",
      "0:00:01: Job status: processing\n",
      "0:00:03: Job status: processing\n",
      "0:00:05: Job status: processing\n",
      "0:00:08: Job status: processing\n",
      "0:00:10: Job status: processing\n",
      "0:00:13: Job status: success\n",
      "Training of emulator classification_emulator is complete!\n"
     ]
    }
   ],
   "source": [
    "# Train emulator\n",
    "estimator_params = tl.EstimatorParams(estimator_type=\"classification_gp\") # Specify the \"classification_gp\" estimator\n",
    "params = tl.TrainParams(estimator_params=estimator_params)\n",
    "emulator.train(dataset=dataset, inputs=[\"X\"], outputs=[\"y\"], params=params)"
   ]
  },
  {
   "cell_type": "markdown",
   "metadata": {},
   "source": [
    "### **3. Predict using a classification emulator**\n",
    "\n",
    "Now, you can use the trained emulator to classify new incoming data. First you need to generate data to use in evaluating our trained emulator: "
   ]
  },
  {
   "cell_type": "code",
   "execution_count": 5,
   "metadata": {},
   "outputs": [],
   "source": [
    "# Generate test_x that will be used to evaluate the trained emulator\n",
    "np.random.seed(5)\n",
    "eval_x = np.random.rand(10)\n",
    "eval_df = pd.DataFrame({\n",
    "    \"X\": eval_x,\n",
    "})"
   ]
  },
  {
   "cell_type": "markdown",
   "metadata": {},
   "source": [
    "Then, the process of running `predict` is exactly the same as the one you would follow for a standard `twinlab` emulator."
   ]
  },
  {
   "cell_type": "code",
   "execution_count": null,
   "metadata": {},
   "outputs": [],
   "source": [
    "# Classify incoming data using the trained emulator\n",
    "classification_mean, classification_std= emulator.predict(eval_df, verbose=False)"
   ]
  },
  {
   "cell_type": "markdown",
   "metadata": {},
   "source": [
    "Now that you've created predictions, let's add it in to your `DataFrame`. "
   ]
  },
  {
   "cell_type": "code",
   "execution_count": null,
   "metadata": {},
   "outputs": [],
   "source": [
    "# Include the classification mean and std in the eval_df\n",
    "eval_df[\"classification_mean\"] = classification_mean\n",
    "eval_df[\"classification_std\"] = classification_std"
   ]
  },
  {
   "cell_type": "markdown",
   "metadata": {},
   "source": [
    "### **4. Viewing the results**\n",
    "\n",
    "You can create a plot that displays the mean and standard deviation of the predictions. In this case, we can evaluate how close are those predictions from the true function you want to get close to."
   ]
  },
  {
   "cell_type": "code",
   "execution_count": 6,
   "metadata": {},
   "outputs": [
    {
     "data": {
      "image/png": "[encoded data removed]",
      "text/plain": [
       "<Figure size 640x480 with 1 Axes>"
      ]
     },
     "metadata": {},
     "output_type": "display_data"
    }
   ],
   "source": [
    "# Plot the classification mean and std\n",
    "plt.scatter(eval_df[\"X\"], eval_df[\"classification_mean\"], color=\"black\")\n",
    "# Add in error bars to show your prediction results and quantify the uncertainty in your prediction \n",
    "plt.errorbar(eval_df['X'], eval_df['classification_mean'], yerr=eval_df['classification_std'], fmt='o', color=\"black\", alpha=0.5)\n",
    "# Plot the model you used to generate the data--the true function \n",
    "plt.plot(x, y, color='red',linestyle='dashed', label='True function')\n",
    "\n",
    "# Add in labels and other plot parameters\n",
    "plt.ylabel(\"Predicted y\")\n",
    "plt.xlabel(\"New inputs (X)\")\n",
    "plt.legend()\n",
    "plt.xlim(0, 1)\n",
    "plt.show()"
   ]
  },
  {
   "cell_type": "markdown",
   "metadata": {},
   "source": [
    "The plot shows that the predicted probabilities match very accurately the classification given by the underlying function. "
   ]
  },
  {
   "cell_type": "markdown",
   "metadata": {},
   "source": [
    "### **Deleting datasets and campaigns**\n",
    "\n",
    "You can delete your datasets and emulators to keep your twinLab cloud account storage tidy. \n",
    "\n",
    "Please be aware that this is permanent. Always consider keeping your data locally backed up. \n",
    "\n",
    "`Emulator.delete` and `Dataset.delete` delete the emulator and the dataset respectively."
   ]
  },
  {
   "cell_type": "code",
   "execution_count": 7,
   "metadata": {},
   "outputs": [],
   "source": [
    "# Delete emulator and dataset\n",
    "emulator.delete()\n",
    "dataset.delete()"
   ]
  }
 ],
 "metadata": {
  "kernelspec": {
   "display_name": "twinlab-DiDHJHOT-py3.11",
   "language": "python",
   "name": "python3"
  },
  "language_info": {
   "codemirror_mode": {
    "name": "ipython",
    "version": 3
   },
   "file_extension": ".py",
   "mimetype": "text/x-python",
   "name": "python",
   "nbconvert_exporter": "python",
   "pygments_lexer": "ipython3",
   "version": "3.11.8"
  }
 },
 "nbformat": 4,
 "nbformat_minor": 2
}
