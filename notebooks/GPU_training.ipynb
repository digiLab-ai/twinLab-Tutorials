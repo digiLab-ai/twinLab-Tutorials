{
 "cells": [
  {
   "cell_type": "markdown",
   "metadata": {},
   "source": [
    "# GPU accelerated training\n",
    "\n",
    "Using twinLab you can accelerate the training time of some models using our cloud-based GPU training. In our testing, this has only produced reliable speed-ups for larger variational Gaussian Processes (`estimator_type=\"variational_gp\"`), or for models with output decomposition (either `output_explained_variance` or `output_retained_dimensions` set in `TrainParams`).\n",
    "\n",
    "Start, as usual, by importing the packages you need for this tutorial:"
   ]
  },
  {
   "cell_type": "code",
   "execution_count": 1,
   "metadata": {},
   "outputs": [
    {
     "name": "stdout",
     "output_type": "stream",
     "text": [
      "\n",
      "          ====== TwinLab Client Initialisation ======\n",
      "          Version     : 2.20.1.dev0\n",
      "          User        : alexander@digilab.co.uk\n",
      "          Server      : http://localhost:8000\n",
      "          Environment : /Users/mead/digiLab/twinLab/tutorials/.env\n",
      "\n"
     ]
    }
   ],
   "source": [
    "import twinlab as tl"
   ]
  },
  {
   "cell_type": "markdown",
   "metadata": {},
   "source": [
    "We use the `tritium-desorption` example for this tutorial:"
   ]
  },
  {
   "cell_type": "code",
   "execution_count": 2,
   "metadata": {},
   "outputs": [],
   "source": [
    "dataset_id = \"tritium-desorption-small\"\n",
    "dataset = tl.Dataset(dataset_id)\n",
    "df = tl.load_example_dataset(dataset_id)\n",
    "dataset.upload(df)"
   ]
  },
  {
   "cell_type": "markdown",
   "metadata": {},
   "source": [
    "Now we setup the emulator to be trained. With this dataset we try to predict the desorption rate (a function of temperature, so this is a functional output model) as a function of parameters of the material used in the reactor wall (parametrized via `E1`, `E2`, `E3`, `n1`, `n2`). "
   ]
  },
  {
   "cell_type": "code",
   "execution_count": 3,
   "metadata": {},
   "outputs": [],
   "source": [
    "emulator_id = \"tritium-desorption\"\n",
    "inputs = [\"E1\", \"E2\", \"E3\", \"n1\", \"n2\"]\n",
    "outputs = [f\"y{i}\" for i in range(624)]\n",
    "emulator = tl.Emulator(emulator_id)\n",
    "params = tl.TrainParams(output_retained_dimensions=5)\n",
    "\n",
    "# Create a dataset on which to make predictions\n",
    "df_test = df[inputs].sample(5, random_state=42).reset_index(drop=True)"
   ]
  },
  {
   "cell_type": "markdown",
   "metadata": {},
   "source": [
    "The GPU is activated by setting `processor=\"gpu\"` in the call to `emulator.train`. Here we see that it cuts down training time by a factor of $\\sim 1/2$. This is not a life-changing improvement, but an improvement never-the-less."
   ]
  },
  {
   "cell_type": "code",
   "execution_count": 4,
   "metadata": {},
   "outputs": [
    {
     "name": "stdout",
     "output_type": "stream",
     "text": [
      "Training model on cpu\n",
      "Emulator 'tritium-desorption' has begun training.\n",
      "0:00:00: Job status: processing\n",
      "0:00:03: Job status: processing\n",
      "0:00:08: Job status: processing\n",
      "0:00:17: Job status: processing\n",
      "0:00:31: Job status: processing\n",
      "0:00:36: Job status: processing\n",
      "0:00:41: Job status: processing\n",
      "0:00:47: Job status: processing\n",
      "0:00:53: Job status: processing\n",
      "0:01:00: Job status: processing\n",
      "0:01:08: Job status: processing\n",
      "0:01:16: Job status: processing\n",
      "0:01:25: Job status: processing\n",
      "0:01:35: Job status: processing\n",
      "0:01:46: Job status: processing\n",
      "0:01:59: Job status: processing\n",
      "0:02:12: Job status: success\n",
      "Training of emulator tritium-desorption is complete!\n",
      "\n",
      "Predicting from trained cpu model...\n",
      "Predictions made successfully!\n",
      "\n",
      "Training model on gpu\n",
      "Emulator 'tritium-desorption' has begun training.\n",
      "0:00:00: Job status: processing\n",
      "0:00:01: Job status: processing\n",
      "0:00:03: Job status: processing\n",
      "0:00:04: Job status: processing\n",
      "0:00:06: Job status: processing\n",
      "0:00:08: Job status: processing\n",
      "0:00:11: Job status: processing\n",
      "0:00:13: Job status: processing\n",
      "0:00:16: Job status: processing\n",
      "0:00:19: Job status: processing\n",
      "0:00:22: Job status: processing\n",
      "0:00:26: Job status: processing\n",
      "0:00:30: Job status: processing\n",
      "0:00:35: Job status: processing\n",
      "0:00:40: Job status: processing\n",
      "0:00:45: Job status: processing\n",
      "0:00:51: Job status: processing\n",
      "0:00:58: Job status: processing\n",
      "0:01:05: Job status: processing\n",
      "0:01:13: Job status: success\n",
      "Training of emulator tritium-desorption is complete!\n",
      "\n",
      "Predicting from trained gpu model...\n",
      "Predictions made successfully!\n",
      "\n"
     ]
    }
   ],
   "source": [
    "# Loop over CPU and GPU to compare training times between the two\n",
    "for processor in [\"cpu\", \"gpu\"]:\n",
    "    print(f\"Training model on {processor}\")\n",
    "    emulator.train(\n",
    "        dataset,\n",
    "        inputs,\n",
    "        outputs,\n",
    "        params=params,\n",
    "        verbose=True,\n",
    "        processor=processor,\n",
    "    )\n",
    "    print()\n",
    "    print(f\"Predicting from trained {processor} model...\")\n",
    "    emulator.predict(df_test, verbose=False)\n",
    "    print(\"Predictions made successfully!\")\n",
    "    print()"
   ]
  }
 ],
 "metadata": {
  "kernelspec": {
   "display_name": "twinlab-tutorials-VByujxwf-py3.10",
   "language": "python",
   "name": "python3"
  },
  "language_info": {
   "codemirror_mode": {
    "name": "ipython",
    "version": 3
   },
   "file_extension": ".py",
   "mimetype": "text/x-python",
   "name": "python",
   "nbconvert_exporter": "python",
   "pygments_lexer": "ipython3",
   "version": "3.10.15"
  }
 },
 "nbformat": 4,
 "nbformat_minor": 2
}
