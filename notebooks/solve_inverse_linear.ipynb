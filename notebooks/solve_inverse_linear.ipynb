{
  "cells": [
    {
      "cell_type": "markdown",
      "metadata": {
        "id": "w-Tp5UzlOzso"
      },
      "source": [
        "# Solving Inverse Problems - Linear Example\n",
        "\n",
        "Consider a scenario where we have some observed output data, and our goal is to determine the underlying conditions (inputs) that led to these outcomes.\n",
        "\n",
        "This can be accomplished by performing experiments to obtain some sample inputs and ouputs, using twinlab to train a model on the data, and applying twinlab's `Emulator.calibrate` function to predict the missing inputs.\n"
      ]
    },
    {
      "cell_type": "markdown",
      "metadata": {
        "id": "SFnNvQv_Ozsp"
      },
      "source": [
        "First, import the required libraries.\n"
      ]
    },
    {
      "cell_type": "code",
      "execution_count": 1,
      "metadata": {
        "colab": {
          "base_uri": "https://localhost:8080/"
        },
        "id": "KTjc23BCOzsq",
        "outputId": "268287fe-4e72-48d0-880a-395d2d848b95"
      },
      "outputs": [
        {
          "name": "stdout",
          "output_type": "stream",
          "text": [
            "\n",
            "          ====== TwinLab Client Initialisation ======\n",
            "          Version     : 2.10.0\n",
            "          User        : alexander@digilab.co.uk\n",
            "          Server      : https://twinlab.digilab.co.uk/v3\n",
            "          Environment : /Users/mead/digiLab/twinLab/tutorials/.env\n",
            "\n"
          ]
        }
      ],
      "source": [
        "import numpy as np\n",
        "import pandas as pd\n",
        "import matplotlib.pyplot as plt\n",
        "import matplotlib.patches as patches\n",
        "import twinlab as tl"
      ]
    },
    {
      "cell_type": "markdown",
      "metadata": {
        "id": "Y_bl4UnROzsq"
      },
      "source": [
        "## Establish Parameters and Create Datasets\n",
        "\n",
        "We want to establish data and model parameters, and also generate the noisy observed and experimental data.\n"
      ]
    },
    {
      "cell_type": "code",
      "execution_count": 2,
      "metadata": {
        "id": "_xWC4akAOzsq"
      },
      "outputs": [],
      "source": [
        "# Data and model parameters\n",
        "random_seed = 8675309\n",
        "err_sig = 2 / 3"
      ]
    },
    {
      "cell_type": "markdown",
      "metadata": {
        "id": "HewUUBlXSZ9W"
      },
      "source": [
        "In order to solve an inverse problem (using MCMC behind the scenes), there are a few essential ingredients.\n",
        "\n",
        "**An observation**: The algorithm computes a posterior distribution of the inputs that is most likely to have resulted in an observation. To begin with, we need to have an observation that we are interested in.\n",
        "\n",
        "**The standard deviation of the observation**: one of the assumptions in solving a Bayesian inverse problem is that the measurement error/noise level of the observation is known. This may come from the known precision of a sensor module, or multiple measurements can be taken and the mean and standard deviation provided instead.\n",
        "\n",
        "In our example, we can simply choose a noise level to add to the observation.\n"
      ]
    },
    {
      "cell_type": "code",
      "execution_count": 3,
      "metadata": {
        "colab": {
          "base_uri": "https://localhost:8080/",
          "height": 143
        },
        "id": "qmDICytPOzsr",
        "outputId": "ba05df58-2ba3-419f-ecf7-39009d04f515"
      },
      "outputs": [
        {
          "data": {
            "text/html": [
              "<div>\n",
              "<style scoped>\n",
              "    .dataframe tbody tr th:only-of-type {\n",
              "        vertical-align: middle;\n",
              "    }\n",
              "\n",
              "    .dataframe tbody tr th {\n",
              "        vertical-align: top;\n",
              "    }\n",
              "\n",
              "    .dataframe thead th {\n",
              "        text-align: right;\n",
              "    }\n",
              "</style>\n",
              "<table border=\"1\" class=\"dataframe\">\n",
              "  <thead>\n",
              "    <tr style=\"text-align: right;\">\n",
              "      <th></th>\n",
              "      <th>y</th>\n",
              "    </tr>\n",
              "  </thead>\n",
              "  <tbody>\n",
              "    <tr>\n",
              "      <th>0</th>\n",
              "      <td>10.25</td>\n",
              "    </tr>\n",
              "  </tbody>\n",
              "</table>\n",
              "</div>"
            ],
            "text/plain": [
              "       y\n",
              "0  10.25"
            ]
          },
          "metadata": {},
          "output_type": "display_data"
        },
        {
          "data": {
            "text/html": [
              "<div>\n",
              "<style scoped>\n",
              "    .dataframe tbody tr th:only-of-type {\n",
              "        vertical-align: middle;\n",
              "    }\n",
              "\n",
              "    .dataframe tbody tr th {\n",
              "        vertical-align: top;\n",
              "    }\n",
              "\n",
              "    .dataframe thead th {\n",
              "        text-align: right;\n",
              "    }\n",
              "</style>\n",
              "<table border=\"1\" class=\"dataframe\">\n",
              "  <thead>\n",
              "    <tr style=\"text-align: right;\">\n",
              "      <th></th>\n",
              "      <th>y</th>\n",
              "    </tr>\n",
              "  </thead>\n",
              "  <tbody>\n",
              "    <tr>\n",
              "      <th>0</th>\n",
              "      <td>0.666667</td>\n",
              "    </tr>\n",
              "  </tbody>\n",
              "</table>\n",
              "</div>"
            ],
            "text/plain": [
              "          y\n",
              "0  0.666667"
            ]
          },
          "metadata": {},
          "output_type": "display_data"
        }
      ],
      "source": [
        "# Observed datapoint we would like to know the inputs for.\n",
        "obs = pd.DataFrame({\"y\": [10.25]})\n",
        "display(obs)\n",
        "obs_std = pd.DataFrame({\"y\": [err_sig]})\n",
        "display(obs_std)"
      ]
    },
    {
      "cell_type": "markdown",
      "metadata": {
        "id": "jb_6C-30UToZ"
      },
      "source": [
        "We need a forward model before we can start solving calibration problems. Let's imagine we've sampled from our simulation, done some experiments, or collected some data:\n"
      ]
    },
    {
      "cell_type": "code",
      "execution_count": 4,
      "metadata": {
        "colab": {
          "base_uri": "https://localhost:8080/",
          "height": 700
        },
        "id": "0t4iPTOlOzsr",
        "outputId": "902bd0b0-51cf-4f48-92f5-096e49be3af2"
      },
      "outputs": [
        {
          "data": {
            "text/html": [
              "<div>\n",
              "<style scoped>\n",
              "    .dataframe tbody tr th:only-of-type {\n",
              "        vertical-align: middle;\n",
              "    }\n",
              "\n",
              "    .dataframe tbody tr th {\n",
              "        vertical-align: top;\n",
              "    }\n",
              "\n",
              "    .dataframe thead th {\n",
              "        text-align: right;\n",
              "    }\n",
              "</style>\n",
              "<table border=\"1\" class=\"dataframe\">\n",
              "  <thead>\n",
              "    <tr style=\"text-align: right;\">\n",
              "      <th></th>\n",
              "      <th>X</th>\n",
              "      <th>y</th>\n",
              "    </tr>\n",
              "  </thead>\n",
              "  <tbody>\n",
              "    <tr>\n",
              "      <th>0</th>\n",
              "      <td>0.0</td>\n",
              "      <td>3.392682</td>\n",
              "    </tr>\n",
              "    <tr>\n",
              "      <th>1</th>\n",
              "      <td>0.5</td>\n",
              "      <td>4.488746</td>\n",
              "    </tr>\n",
              "    <tr>\n",
              "      <th>2</th>\n",
              "      <td>1.0</td>\n",
              "      <td>4.225207</td>\n",
              "    </tr>\n",
              "    <tr>\n",
              "      <th>3</th>\n",
              "      <td>1.5</td>\n",
              "      <td>5.628789</td>\n",
              "    </tr>\n",
              "    <tr>\n",
              "      <th>4</th>\n",
              "      <td>2.0</td>\n",
              "      <td>6.485008</td>\n",
              "    </tr>\n",
              "    <tr>\n",
              "      <th>5</th>\n",
              "      <td>2.5</td>\n",
              "      <td>7.887852</td>\n",
              "    </tr>\n",
              "    <tr>\n",
              "      <th>6</th>\n",
              "      <td>3.0</td>\n",
              "      <td>8.722331</td>\n",
              "    </tr>\n",
              "    <tr>\n",
              "      <th>7</th>\n",
              "      <td>3.5</td>\n",
              "      <td>9.081046</td>\n",
              "    </tr>\n",
              "    <tr>\n",
              "      <th>8</th>\n",
              "      <td>4.0</td>\n",
              "      <td>11.499504</td>\n",
              "    </tr>\n",
              "    <tr>\n",
              "      <th>9</th>\n",
              "      <td>4.5</td>\n",
              "      <td>12.119256</td>\n",
              "    </tr>\n",
              "    <tr>\n",
              "      <th>10</th>\n",
              "      <td>5.0</td>\n",
              "      <td>13.462674</td>\n",
              "    </tr>\n",
              "    <tr>\n",
              "      <th>11</th>\n",
              "      <td>5.5</td>\n",
              "      <td>12.681298</td>\n",
              "    </tr>\n",
              "    <tr>\n",
              "      <th>12</th>\n",
              "      <td>6.0</td>\n",
              "      <td>14.444124</td>\n",
              "    </tr>\n",
              "    <tr>\n",
              "      <th>13</th>\n",
              "      <td>6.5</td>\n",
              "      <td>16.376249</td>\n",
              "    </tr>\n",
              "    <tr>\n",
              "      <th>14</th>\n",
              "      <td>7.0</td>\n",
              "      <td>17.208009</td>\n",
              "    </tr>\n",
              "    <tr>\n",
              "      <th>15</th>\n",
              "      <td>7.5</td>\n",
              "      <td>17.417770</td>\n",
              "    </tr>\n",
              "    <tr>\n",
              "      <th>16</th>\n",
              "      <td>8.0</td>\n",
              "      <td>19.104009</td>\n",
              "    </tr>\n",
              "    <tr>\n",
              "      <th>17</th>\n",
              "      <td>8.5</td>\n",
              "      <td>19.741933</td>\n",
              "    </tr>\n",
              "    <tr>\n",
              "      <th>18</th>\n",
              "      <td>9.0</td>\n",
              "      <td>20.840528</td>\n",
              "    </tr>\n",
              "    <tr>\n",
              "      <th>19</th>\n",
              "      <td>9.5</td>\n",
              "      <td>22.592334</td>\n",
              "    </tr>\n",
              "    <tr>\n",
              "      <th>20</th>\n",
              "      <td>10.0</td>\n",
              "      <td>23.862569</td>\n",
              "    </tr>\n",
              "  </tbody>\n",
              "</table>\n",
              "</div>"
            ],
            "text/plain": [
              "       X          y\n",
              "0    0.0   3.392682\n",
              "1    0.5   4.488746\n",
              "2    1.0   4.225207\n",
              "3    1.5   5.628789\n",
              "4    2.0   6.485008\n",
              "5    2.5   7.887852\n",
              "6    3.0   8.722331\n",
              "7    3.5   9.081046\n",
              "8    4.0  11.499504\n",
              "9    4.5  12.119256\n",
              "10   5.0  13.462674\n",
              "11   5.5  12.681298\n",
              "12   6.0  14.444124\n",
              "13   6.5  16.376249\n",
              "14   7.0  17.208009\n",
              "15   7.5  17.417770\n",
              "16   8.0  19.104009\n",
              "17   8.5  19.741933\n",
              "18   9.0  20.840528\n",
              "19   9.5  22.592334\n",
              "20  10.0  23.862569"
            ]
          },
          "metadata": {},
          "output_type": "display_data"
        }
      ],
      "source": [
        "# Seed the random-number generator\n",
        "np.random.seed(random_seed)\n",
        "\n",
        "\n",
        "# Create a linear function to generate experimental data\n",
        "def f(x):\n",
        "    return 2 * x + 3\n",
        "\n",
        "\n",
        "# Add Gaussian noise to the linear ouput\n",
        "def model(X):\n",
        "    return np.random.normal(f(X), err_sig)\n",
        "\n",
        "\n",
        "# Set up experimental data dataframe\n",
        "X = np.linspace(0, 10, 21)\n",
        "y = model(X)\n",
        "df_exp = pd.DataFrame({\"X\": X, \"y\": y})\n",
        "display(df_exp)\n",
        "\n",
        "# Upload the dataset to the cloud\n",
        "dataset = tl.Dataset(\"inverse-methods-dataset\")\n",
        "dataset.upload(df_exp)"
      ]
    },
    {
      "cell_type": "code",
      "execution_count": 5,
      "metadata": {
        "colab": {
          "base_uri": "https://localhost:8080/",
          "height": 449
        },
        "id": "_NEjPQ3GOzsr",
        "outputId": "e514e4c8-01a8-4f38-bb80-90702551f110"
      },
      "outputs": [
        {
          "data": {
            "image/png": "[encoded data removed]",
            "text/plain": [
              "<Figure size 640x480 with 1 Axes>"
            ]
          },
          "metadata": {},
          "output_type": "display_data"
        }
      ],
      "source": [
        "# Plotting routine\n",
        "def plot_data(X, y, obs=None, obs_std=None, inverse_df=None):\n",
        "    fig, ax = plt.subplots()\n",
        "    ax.scatter(X, y, color=\"cornflowerblue\", label=\"Experimental data\")\n",
        "    if (obs is not None) and (inverse_df is None):\n",
        "        y_mean = obs[\"y\"][0]\n",
        "        ax.axhline(y=y_mean, color=\"tomato\", label=\"Observed Output\")\n",
        "        if obs_std is not None:\n",
        "            y_std = obs_std[\"y\"][0]\n",
        "            ax.axhspan(\n",
        "                ymin=y_mean - y_std,\n",
        "                ymax=y_mean + y_std,\n",
        "                color=\"tomato\",\n",
        "                alpha=1 / 3,\n",
        "                label=\"Observation error\",\n",
        "            )\n",
        "    elif (obs is not None) and (obs_std is not None) and (inverse_df is not None):\n",
        "        y_mean = obs[\"y\"][0]\n",
        "        y_std = obs_std[\"y\"][0]\n",
        "        X_mean = inverse_df[\"mean\"][0]\n",
        "        X_std = inverse_df[\"sd\"][0]\n",
        "        ax.scatter(X_mean, y_mean, color=\"tomato\", label=\"Observed data\")\n",
        "        ax.add_patch(\n",
        "            patches.Ellipse(\n",
        "                (X_mean, y_mean),\n",
        "                X_std * 2,\n",
        "                y_std * 2,\n",
        "                color=\"tomato\",\n",
        "                alpha=1 / 3,\n",
        "                label=\"Uncertainty\",\n",
        "            )\n",
        "        )\n",
        "    ax.set_xlabel(\"X\")\n",
        "    ax.set_ylabel(\"y\")\n",
        "    plt.legend()\n",
        "    plt.show()\n",
        "    plt.close()\n",
        "\n",
        "\n",
        "# Plot the data\n",
        "plot_data(X=X, y=y, obs=obs, obs_std=obs_std)"
      ]
    },
    {
      "cell_type": "markdown",
      "metadata": {
        "id": "eJQfXzF1Ozss"
      },
      "source": [
        "## Training the Model\n",
        "\n",
        "In this section, we'll be establishing the model training parameters, training our model on our experimental data, and producing the output of that training and prediction.\n",
        "\n",
        "First we need to establish what criteria our model training has. We do this via a `TrainParams` and `Emulator` object, which will include what we want to name our model, specify what the model inputs and outputs are, and fine-tune modelling parameters, such as the test_train_ratio.\n"
      ]
    },
    {
      "cell_type": "code",
      "execution_count": 6,
      "metadata": {
        "id": "KoavhpYbOzss"
      },
      "outputs": [],
      "source": [
        "# Training parameters\n",
        "train_params = tl.TrainParams(train_test_ratio=0.8)"
      ]
    },
    {
      "cell_type": "markdown",
      "metadata": {
        "id": "F9tF5d4wOzss"
      },
      "source": [
        "Next, we can actually train our model in the Cloud.\n"
      ]
    },
    {
      "cell_type": "code",
      "execution_count": 7,
      "metadata": {
        "id": "KVd_nwglOzss"
      },
      "outputs": [
        {
          "name": "stdout",
          "output_type": "stream",
          "text": [
            "Emulator inverse-methods-model has begun training.\n",
            "0:00:00: Job status: processing\n",
            "0:00:01: Job status: success\n",
            "Training of emulator inverse-methods-model is complete!\n"
          ]
        }
      ],
      "source": [
        "# Train model\n",
        "emulator = tl.Emulator(\"inverse-methods-model\")\n",
        "emulator.train(dataset, [\"X\"], [\"y\"], train_params)"
      ]
    },
    {
      "cell_type": "markdown",
      "metadata": {
        "id": "ShX5pWQAOzss"
      },
      "source": [
        "## Inverse Problem\n",
        "\n",
        "Solve the inverse problem to obtain information about the input value that created the observed output value.\n"
      ]
    },
    {
      "cell_type": "code",
      "execution_count": 8,
      "metadata": {
        "id": "pColRYXQOzst"
      },
      "outputs": [
        {
          "name": "stdout",
          "output_type": "stream",
          "text": [
            "Job calibrate process ID: calibrate-lovely-ambitious-veterinarian\n",
            "0:00:00: Job status: processing\n",
            "0:00:01: Job status: processing\n",
            "0:00:03: Job status: processing\n",
            "0:00:05: Job status: processing\n",
            "0:00:07: Job status: processing\n",
            "0:00:09: Job status: processing\n",
            "0:00:12: Job status: processing\n",
            "0:00:15: Job status: processing\n",
            "0:00:18: Job status: processing\n",
            "0:00:21: Job status: processing\n",
            "0:00:25: Job status: processing\n",
            "0:00:30: Job status: processing\n",
            "0:00:34: Job status: processing\n",
            "0:00:39: Job status: processing\n",
            "0:00:45: Job status: success\n",
            "Calibration summary:\n",
            "    mean     sd  hdi_3%  hdi_97%  mcse_mean  mcse_sd  ess_bulk  ess_tail  \\\n",
            "X  3.636  0.367   2.951    4.323      0.008    0.006    1939.0    2270.0   \n",
            "\n",
            "   r_hat  \n",
            "X    1.0  \n"
          ]
        }
      ],
      "source": [
        "# Solve the inverse problem\n",
        "inverse_df = emulator.calibrate(obs, obs_std)"
      ]
    },
    {
      "cell_type": "code",
      "execution_count": 9,
      "metadata": {
        "colab": {
          "base_uri": "https://localhost:8080/",
          "height": 449
        },
        "id": "e0oxL44NOzst",
        "outputId": "78cce172-3d45-456b-b5d4-de9d41fb8445"
      },
      "outputs": [
        {
          "name": "stderr",
          "output_type": "stream",
          "text": [
            "/var/folders/ml/754v6mn14dx2yfqknbvqmlmw0000gn/T/ipykernel_28132/1142193926.py:20: FutureWarning: Series.__getitem__ treating keys as positions is deprecated. In a future version, integer keys will always be treated as labels (consistent with DataFrame behavior). To access a value by position, use `ser.iloc[pos]`\n",
            "  X_mean = inverse_df[\"mean\"][0]\n",
            "/var/folders/ml/754v6mn14dx2yfqknbvqmlmw0000gn/T/ipykernel_28132/1142193926.py:21: FutureWarning: Series.__getitem__ treating keys as positions is deprecated. In a future version, integer keys will always be treated as labels (consistent with DataFrame behavior). To access a value by position, use `ser.iloc[pos]`\n",
            "  X_std = inverse_df[\"sd\"][0]\n"
          ]
        },
        {
          "data": {
            "image/png": "[encoded data removed]",
            "text/plain": [
              "<Figure size 640x480 with 1 Axes>"
            ]
          },
          "metadata": {},
          "output_type": "display_data"
        }
      ],
      "source": [
        "# Plot the data\n",
        "plot_data(X=X, y=y, obs=obs, obs_std=obs_std, inverse_df=inverse_df)"
      ]
    },
    {
      "cell_type": "markdown",
      "metadata": {
        "id": "Mf6LMlDSOzst"
      },
      "source": [
        "## Validate Expected Result\n",
        "\n",
        "Since we fabricated the experimental data, we can manually validate our computed result. Note this is a sanity check and would not be possible with real-world data of an unknown model.\n",
        "\n",
        "$$\n",
        "\\begin{align}\n",
        "    y = 2X+3 \\;\\;\\;\\rightarrow \\;\\;\\; \\frac{y-3}{2} = X\n",
        "\\end{align}\n",
        "$$\n",
        "\n",
        "The difference between the computed inverse model mean and X in above equation (1) should be less than the determined standard deviation.\n"
      ]
    },
    {
      "cell_type": "code",
      "execution_count": 10,
      "metadata": {
        "colab": {
          "base_uri": "https://localhost:8080/"
        },
        "id": "K2PfO5LVOzst",
        "outputId": "ef2e48d9-ac74-4f24-c1a0-490f1920883a"
      },
      "outputs": [
        {
          "name": "stdout",
          "output_type": "stream",
          "text": [
            "Success! The difference between the inverse model mean X (3.636) and the algebraically computed X (3.625) is 0.011 which is less than the inverse model standard deviation of 0.367.\n"
          ]
        },
        {
          "name": "stderr",
          "output_type": "stream",
          "text": [
            "/var/folders/ml/754v6mn14dx2yfqknbvqmlmw0000gn/T/ipykernel_28132/3142967819.py:1: FutureWarning: Series.__getitem__ treating keys as positions is deprecated. In a future version, integer keys will always be treated as labels (consistent with DataFrame behavior). To access a value by position, use `ser.iloc[pos]`\n",
            "  inverse_mean = inverse_df[\"mean\"][0]\n",
            "/var/folders/ml/754v6mn14dx2yfqknbvqmlmw0000gn/T/ipykernel_28132/3142967819.py:2: FutureWarning: Series.__getitem__ treating keys as positions is deprecated. In a future version, integer keys will always be treated as labels (consistent with DataFrame behavior). To access a value by position, use `ser.iloc[pos]`\n",
            "  inverse_std = inverse_df[\"sd\"][0]\n"
          ]
        }
      ],
      "source": [
        "inverse_mean = inverse_df[\"mean\"][0]\n",
        "inverse_std = inverse_df[\"sd\"][0]\n",
        "y_obs = obs[\"y\"][0]\n",
        "\n",
        "actual_X = (y_obs - 3) / 2\n",
        "difference = abs(actual_X - inverse_mean)\n",
        "\n",
        "if difference <= inverse_std:\n",
        "    print(\n",
        "        f\"Success! The difference between the inverse model mean X ({inverse_mean}) and the algebraically computed X ({actual_X}) is {round(difference, 5)} which is less than the inverse model standard deviation of {inverse_std}.\"\n",
        "    )\n",
        "else:\n",
        "    print(\n",
        "        f\"Something went wrong! The difference between the inverse model mean X ({inverse_mean}) and the algebraically computed X ({actual_X}) is {round(difference, 5)} which is greater than the inverse model standard deviation {inverse_std}.\"\n",
        "    )"
      ]
    },
    {
      "cell_type": "markdown",
      "metadata": {
        "id": "Q0HFQm7cOzst"
      },
      "source": [
        "## Finishing up\n",
        "\n",
        "This section covers how to delete your trained model and dataset from the cloud. Note that you don't need to delete your model and data to rerun a campaign or dataset of the same name--if, say, you rerun the functions above as-is, with no name changes, will simply overwrite your existing model and dataset on the Cloud.\n"
      ]
    },
    {
      "cell_type": "code",
      "execution_count": 11,
      "metadata": {
        "id": "EFwOyDBNOzst"
      },
      "outputs": [],
      "source": [
        "# Delete campaign and dataset if necessary\n",
        "dataset.delete()\n",
        "emulator.delete()"
      ]
    }
  ],
  "metadata": {
    "colab": {
      "provenance": []
    },
    "kernelspec": {
      "display_name": "Python 3 (ipykernel)",
      "language": "python",
      "name": "python3"
    },
    "language_info": {
      "codemirror_mode": {
        "name": "ipython",
        "version": 3
      },
      "file_extension": ".py",
      "mimetype": "text/x-python",
      "name": "python",
      "nbconvert_exporter": "python",
      "pygments_lexer": "ipython3",
      "version": "3.10.14"
    }
  },
  "nbformat": 4,
  "nbformat_minor": 0
}
