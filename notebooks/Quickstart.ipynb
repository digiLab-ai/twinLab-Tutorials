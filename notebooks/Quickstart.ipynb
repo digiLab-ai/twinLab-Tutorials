{
 "cells": [
  {
   "cell_type": "markdown",
   "metadata": {
    "id": "F7rCrDHBPyoX"
   },
   "source": [
    "## **Quickstart**\n",
    "\n",
    "Get started with twinLab in five easy steps! \n",
    "\n",
    "In this Jupyter Notebook, you'll: \n",
    "\n",
    "1. [Get all set up with `twinLab`.](#1-setting-up-twinlab)\n",
    "2. [Upload a dataset to your `twinLab` cloud account.](#2-upload-a-dataset)\n",
    "3. [View datasets on your `twinLab` cloud account.](#3-view-datasets)\n",
    "4. [Use `Emulator.train` to train your surrogate model.](#4-train-an-emulator)\n",
    "5. [View emulators on your `twinLab` cloud account.](#5-view-emulators) \n"
   ]
  },
  {
   "cell_type": "markdown",
   "metadata": {},
   "source": [
    "Start by importing all the necessary packages you need for this tutorial."
   ]
  },
  {
   "cell_type": "code",
   "execution_count": 1,
   "metadata": {
    "colab": {
     "base_uri": "https://localhost:8080/"
    },
    "id": "GFS0xI_RPyob",
    "outputId": "93a5b4fe-3f5a-4006-b600-d9b9ecf29256"
   },
   "outputs": [
    {
     "name": "stdout",
     "output_type": "stream",
     "text": [
      "\n",
      "          ====== TwinLab Client Initialisation ======\n",
      "          Version     : 2.13.0\n",
      "          User        : michelle@digilab.co.uk\n",
      "          Server      : https://twinlab.digilab.co.uk/v3\n",
      "          Environment : /Users/michellebieger/Documents/digi/twinLab/tutorials/.env\n",
      "\n"
     ]
    }
   ],
   "source": [
    "from pprint import pprint\n",
    "\n",
    "import twinlab as tl"
   ]
  },
  {
   "cell_type": "markdown",
   "metadata": {},
   "source": [
    "### **1. Setting up twinLab**"
   ]
  },
  {
   "cell_type": "markdown",
   "metadata": {
    "id": "0Xh_ekNBPyod"
   },
   "source": [
    "First things first, set up your API key. If you don't already have one, visit [https://www.digilab.co.uk/contact](https://www.digilab.co.uk/contact). If you've forgotten it, visit the [Portal](https://portal.twinlab.ai/), where you can check what your API key is. \n",
    "\n",
    "For security and convenience, we normally recommend performing this step with a `.env` file or `secrets`. You will notice that when `twinlab` was imported above the `TwinLab Client` was initialised. If you have setup an `.env` file, you will notice your username appears in the client initialisation report. If you would like to setup an `.env` file, simply copy the `.env.example` file provided in this repository and set the `TWINLAB_USER` and `TWINLAB_API_KEY` equal to your username and API key, respectively. Note that you will need to restart your Jupyter kernel if you have modified your `.env` file after running the first cell of this notebook.\n",
    "\n",
    "\n",
    "Alternatively, these variables can be set within your Python code. Uncomment the below code and plug in your twinLab username and API key. \n"
   ]
  },
  {
   "cell_type": "code",
   "execution_count": 2,
   "metadata": {
    "id": "CdMAjGICPyod"
   },
   "outputs": [],
   "source": [
    "# tl.set_user(\"<YOUR_USERNAME>\")\n",
    "# tl.set_api_key(\"<YOUR_API_KEY>\")\n",
    "# tl.set_url(\"https://twinlab.digilab.co.uk/v3\")"
   ]
  },
  {
   "cell_type": "markdown",
   "metadata": {},
   "source": [
    "You can also view your user information. "
   ]
  },
  {
   "cell_type": "code",
   "execution_count": 3,
   "metadata": {},
   "outputs": [
    {
     "data": {
      "text/plain": [
       "{'User': 'jamie@digilab.co.uk'}"
      ]
     },
     "execution_count": 3,
     "metadata": {},
     "output_type": "execute_result"
    }
   ],
   "source": [
    "tl.user_information()"
   ]
  },
  {
   "cell_type": "markdown",
   "metadata": {},
   "source": [
    "Find versioning information with the function below."
   ]
  },
  {
   "cell_type": "code",
   "execution_count": 4,
   "metadata": {},
   "outputs": [
    {
     "data": {
      "text/plain": [
       "{'cloud': '3.2.0',\n",
       " 'modal': '1.2.0',\n",
       " 'library': '2.1.0',\n",
       " 'image': 'twinlab-prod'}"
      ]
     },
     "execution_count": 4,
     "metadata": {},
     "output_type": "execute_result"
    }
   ],
   "source": [
    "tl.versions()"
   ]
  },
  {
   "cell_type": "markdown",
   "metadata": {
    "id": "AeY2eRktPyoe"
   },
   "source": [
    "### **2. Upload a dataset**\n",
    "\n",
    "Your dataset must be presented as a `pandas.DataFrame` object, or a filepath which points to a `csv` file that can be parsed to a `pandas.DataFrame` object. \n",
    "\n",
    "Your dataset must be formatted with clearly labelled columns. In twinLab, data is expected to be in column-feature format, meaning each row represents a single data sample, and each column represents a data feature (also known as a parameter)."
   ]
  },
  {
   "cell_type": "markdown",
   "metadata": {},
   "source": [
    "You can check out some example datasets to help you get started. "
   ]
  },
  {
   "cell_type": "code",
   "execution_count": 5,
   "metadata": {},
   "outputs": [
    {
     "data": {
      "text/plain": [
       "['tritium-desorption-small',\n",
       " 'biscuits',\n",
       " 'tritium-desorption',\n",
       " 'advancedstart',\n",
       " 'jet-confinement',\n",
       " 'gardening',\n",
       " 'quickstart',\n",
       " 'tritium-desorption-temperature-grid']"
      ]
     },
     "execution_count": 5,
     "metadata": {},
     "output_type": "execute_result"
    }
   ],
   "source": [
    "# List example datasets included in the twinLab cloud\n",
    "tl.list_example_datasets()"
   ]
  },
  {
   "cell_type": "markdown",
   "metadata": {},
   "source": [
    "In this tutorial, you'll use the example dataset, \"quickstart\", which has a single input variable \"x\" and a single output, or response, variable \"y\". You might see \"input\" features also referred to as feature, predictor, or parameter in data science circles. "
   ]
  },
  {
   "cell_type": "code",
   "execution_count": 2,
   "metadata": {},
   "outputs": [
    {
     "data": {
      "text/html": [
       "<div>\n",
       "<style scoped>\n",
       "    .dataframe tbody tr th:only-of-type {\n",
       "        vertical-align: middle;\n",
       "    }\n",
       "\n",
       "    .dataframe tbody tr th {\n",
       "        vertical-align: top;\n",
       "    }\n",
       "\n",
       "    .dataframe thead th {\n",
       "        text-align: right;\n",
       "    }\n",
       "</style>\n",
       "<table border=\"1\" class=\"dataframe\">\n",
       "  <thead>\n",
       "    <tr style=\"text-align: right;\">\n",
       "      <th></th>\n",
       "      <th>x</th>\n",
       "      <th>y</th>\n",
       "    </tr>\n",
       "  </thead>\n",
       "  <tbody>\n",
       "    <tr>\n",
       "      <th>0</th>\n",
       "      <td>0.696469</td>\n",
       "      <td>-0.817374</td>\n",
       "    </tr>\n",
       "    <tr>\n",
       "      <th>1</th>\n",
       "      <td>0.286139</td>\n",
       "      <td>0.887656</td>\n",
       "    </tr>\n",
       "    <tr>\n",
       "      <th>2</th>\n",
       "      <td>0.226851</td>\n",
       "      <td>0.921553</td>\n",
       "    </tr>\n",
       "    <tr>\n",
       "      <th>3</th>\n",
       "      <td>0.551315</td>\n",
       "      <td>-0.326334</td>\n",
       "    </tr>\n",
       "    <tr>\n",
       "      <th>4</th>\n",
       "      <td>0.719469</td>\n",
       "      <td>-0.832518</td>\n",
       "    </tr>\n",
       "    <tr>\n",
       "      <th>5</th>\n",
       "      <td>0.423106</td>\n",
       "      <td>0.400669</td>\n",
       "    </tr>\n",
       "    <tr>\n",
       "      <th>6</th>\n",
       "      <td>0.980764</td>\n",
       "      <td>-0.164966</td>\n",
       "    </tr>\n",
       "    <tr>\n",
       "      <th>7</th>\n",
       "      <td>0.684830</td>\n",
       "      <td>-0.960764</td>\n",
       "    </tr>\n",
       "    <tr>\n",
       "      <th>8</th>\n",
       "      <td>0.480932</td>\n",
       "      <td>0.340115</td>\n",
       "    </tr>\n",
       "    <tr>\n",
       "      <th>9</th>\n",
       "      <td>0.392118</td>\n",
       "      <td>0.845795</td>\n",
       "    </tr>\n",
       "  </tbody>\n",
       "</table>\n",
       "</div>"
      ],
      "text/plain": [
       "          x         y\n",
       "0  0.696469 -0.817374\n",
       "1  0.286139  0.887656\n",
       "2  0.226851  0.921553\n",
       "3  0.551315 -0.326334\n",
       "4  0.719469 -0.832518\n",
       "5  0.423106  0.400669\n",
       "6  0.980764 -0.164966\n",
       "7  0.684830 -0.960764\n",
       "8  0.480932  0.340115\n",
       "9  0.392118  0.845795"
      ]
     },
     "metadata": {},
     "output_type": "display_data"
    }
   ],
   "source": [
    "# Download the example dataset\n",
    "df = tl.load_example_dataset(\"quickstart\")\n",
    "\n",
    "# Check the dataframe before uploading\n",
    "display(df)"
   ]
  },
  {
   "cell_type": "markdown",
   "metadata": {},
   "source": [
    "twinLab contains a `Dataset` class with attributes and methods to process, view, and summarise the dataset. You must create Datasets with an `id` which is used to access them. Using the `upload` method, you can then upload the Dataset to the twinLab cloud."
   ]
  },
  {
   "cell_type": "code",
   "execution_count": 3,
   "metadata": {
    "colab": {
     "base_uri": "https://localhost:8080/",
     "height": 204
    },
    "id": "A9bZQrTtPyof",
    "outputId": "8746c623-4bf4-46ca-ab98-b0ba815edb80"
   },
   "outputs": [],
   "source": [
    "# Initialise a Dataset object and give it a name\n",
    "dataset = tl.Dataset(\"quickstart\")\n",
    "\n",
    "# Upload the dataset, passing in the dataframe\n",
    "dataset.upload(df)"
   ]
  },
  {
   "cell_type": "markdown",
   "metadata": {},
   "source": [
    "### **3. View datasets**\n",
    "\n",
    "Once you've uploaded a dataset, you can access it easily using the built-in twinLab functions. You can see a list of your uploaded datasets with the `tl.list_datasets` function. You can also see all the in-built example datasets in a similar way. "
   ]
  },
  {
   "cell_type": "code",
   "execution_count": 8,
   "metadata": {},
   "outputs": [
    {
     "data": {
      "text/plain": [
       "['quickstart']"
      ]
     },
     "execution_count": 8,
     "metadata": {},
     "output_type": "execute_result"
    }
   ],
   "source": [
    "# List all of your datasets on cloud\n",
    "tl.list_datasets()"
   ]
  },
  {
   "cell_type": "markdown",
   "metadata": {},
   "source": [
    "You can view your datasets individually with the `Dataset.view()` function in twinLab. This function is a method of the `Dataset` object, and can only be used along with an instance of a `Dataset` object."
   ]
  },
  {
   "cell_type": "code",
   "execution_count": 9,
   "metadata": {},
   "outputs": [
    {
     "data": {
      "text/html": [
       "<div>\n",
       "<style scoped>\n",
       "    .dataframe tbody tr th:only-of-type {\n",
       "        vertical-align: middle;\n",
       "    }\n",
       "\n",
       "    .dataframe tbody tr th {\n",
       "        vertical-align: top;\n",
       "    }\n",
       "\n",
       "    .dataframe thead th {\n",
       "        text-align: right;\n",
       "    }\n",
       "</style>\n",
       "<table border=\"1\" class=\"dataframe\">\n",
       "  <thead>\n",
       "    <tr style=\"text-align: right;\">\n",
       "      <th></th>\n",
       "      <th>x</th>\n",
       "      <th>y</th>\n",
       "    </tr>\n",
       "  </thead>\n",
       "  <tbody>\n",
       "    <tr>\n",
       "      <th>0</th>\n",
       "      <td>0.696469</td>\n",
       "      <td>-0.817374</td>\n",
       "    </tr>\n",
       "    <tr>\n",
       "      <th>1</th>\n",
       "      <td>0.286139</td>\n",
       "      <td>0.887656</td>\n",
       "    </tr>\n",
       "    <tr>\n",
       "      <th>2</th>\n",
       "      <td>0.226851</td>\n",
       "      <td>0.921553</td>\n",
       "    </tr>\n",
       "    <tr>\n",
       "      <th>3</th>\n",
       "      <td>0.551315</td>\n",
       "      <td>-0.326334</td>\n",
       "    </tr>\n",
       "    <tr>\n",
       "      <th>4</th>\n",
       "      <td>0.719469</td>\n",
       "      <td>-0.832518</td>\n",
       "    </tr>\n",
       "    <tr>\n",
       "      <th>5</th>\n",
       "      <td>0.423106</td>\n",
       "      <td>0.400669</td>\n",
       "    </tr>\n",
       "    <tr>\n",
       "      <th>6</th>\n",
       "      <td>0.980764</td>\n",
       "      <td>-0.164966</td>\n",
       "    </tr>\n",
       "    <tr>\n",
       "      <th>7</th>\n",
       "      <td>0.684830</td>\n",
       "      <td>-0.960764</td>\n",
       "    </tr>\n",
       "    <tr>\n",
       "      <th>8</th>\n",
       "      <td>0.480932</td>\n",
       "      <td>0.340115</td>\n",
       "    </tr>\n",
       "    <tr>\n",
       "      <th>9</th>\n",
       "      <td>0.392118</td>\n",
       "      <td>0.845795</td>\n",
       "    </tr>\n",
       "  </tbody>\n",
       "</table>\n",
       "</div>"
      ],
      "text/plain": [
       "          x         y\n",
       "0  0.696469 -0.817374\n",
       "1  0.286139  0.887656\n",
       "2  0.226851  0.921553\n",
       "3  0.551315 -0.326334\n",
       "4  0.719469 -0.832518\n",
       "5  0.423106  0.400669\n",
       "6  0.980764 -0.164966\n",
       "7  0.684830 -0.960764\n",
       "8  0.480932  0.340115\n",
       "9  0.392118  0.845795"
      ]
     },
     "execution_count": 9,
     "metadata": {},
     "output_type": "execute_result"
    }
   ],
   "source": [
    "# View the dataset\n",
    "dataset.view()"
   ]
  },
  {
   "cell_type": "markdown",
   "metadata": {},
   "source": [
    "You can summarise an individual dataset with the `Dataset.summarise` function. Get an idea of your dataset's overall characteristics--like the range and spread (variance)--with a `pandas.DataFrame` that contains fundamental statistics of your dataset. "
   ]
  },
  {
   "cell_type": "code",
   "execution_count": 10,
   "metadata": {},
   "outputs": [
    {
     "data": {
      "text/html": [
       "<div>\n",
       "<style scoped>\n",
       "    .dataframe tbody tr th:only-of-type {\n",
       "        vertical-align: middle;\n",
       "    }\n",
       "\n",
       "    .dataframe tbody tr th {\n",
       "        vertical-align: top;\n",
       "    }\n",
       "\n",
       "    .dataframe thead th {\n",
       "        text-align: right;\n",
       "    }\n",
       "</style>\n",
       "<table border=\"1\" class=\"dataframe\">\n",
       "  <thead>\n",
       "    <tr style=\"text-align: right;\">\n",
       "      <th></th>\n",
       "      <th>x</th>\n",
       "      <th>y</th>\n",
       "    </tr>\n",
       "  </thead>\n",
       "  <tbody>\n",
       "    <tr>\n",
       "      <th>count</th>\n",
       "      <td>10.000000</td>\n",
       "      <td>10.000000</td>\n",
       "    </tr>\n",
       "    <tr>\n",
       "      <th>mean</th>\n",
       "      <td>0.544199</td>\n",
       "      <td>0.029383</td>\n",
       "    </tr>\n",
       "    <tr>\n",
       "      <th>std</th>\n",
       "      <td>0.229352</td>\n",
       "      <td>0.748191</td>\n",
       "    </tr>\n",
       "    <tr>\n",
       "      <th>min</th>\n",
       "      <td>0.226851</td>\n",
       "      <td>-0.960764</td>\n",
       "    </tr>\n",
       "    <tr>\n",
       "      <th>25%</th>\n",
       "      <td>0.399865</td>\n",
       "      <td>-0.694614</td>\n",
       "    </tr>\n",
       "    <tr>\n",
       "      <th>50%</th>\n",
       "      <td>0.516123</td>\n",
       "      <td>0.087574</td>\n",
       "    </tr>\n",
       "    <tr>\n",
       "      <th>75%</th>\n",
       "      <td>0.693559</td>\n",
       "      <td>0.734513</td>\n",
       "    </tr>\n",
       "    <tr>\n",
       "      <th>max</th>\n",
       "      <td>0.980764</td>\n",
       "      <td>0.921553</td>\n",
       "    </tr>\n",
       "  </tbody>\n",
       "</table>\n",
       "</div>"
      ],
      "text/plain": [
       "               x          y\n",
       "count  10.000000  10.000000\n",
       "mean    0.544199   0.029383\n",
       "std     0.229352   0.748191\n",
       "min     0.226851  -0.960764\n",
       "25%     0.399865  -0.694614\n",
       "50%     0.516123   0.087574\n",
       "75%     0.693559   0.734513\n",
       "max     0.980764   0.921553"
      ]
     },
     "execution_count": 10,
     "metadata": {},
     "output_type": "execute_result"
    }
   ],
   "source": [
    "# Get a column-wise statistical summary of the dataset\n",
    "dataset.summarise()"
   ]
  },
  {
   "cell_type": "markdown",
   "metadata": {
    "id": "ITtAbtpHPyof"
   },
   "source": [
    "### **4. Train an emulator**\n",
    "\n",
    "The `Emulator` class is used to train and implement your surrogate models. Just like with datasets, you define these emulators with an  `id`, which is a unique ID under which your emulator will be saved as in the twinLab cloud."
   ]
  },
  {
   "cell_type": "code",
   "execution_count": 10,
   "metadata": {},
   "outputs": [],
   "source": [
    "# Initialise emulator\n",
    "emulator = tl.Emulator(\"quickstart-model\")"
   ]
  },
  {
   "cell_type": "markdown",
   "metadata": {},
   "source": [
    "When training an emulator, optional arguments are passed in using a `TrainParams` object. `TrainParams` contains parameters you can tweak when training your model - you can find the defaults in the documentation.\n",
    "\n",
    "To train the emulator we use the `Emulator.train` method, passing in the `TrainParams` object as an argument."
   ]
  },
  {
   "cell_type": "code",
   "execution_count": 11,
   "metadata": {},
   "outputs": [],
   "source": [
    "params = tl.TrainParams(train_test_ratio=1.0,output_retained_dimensions=1)"
   ]
  },
  {
   "cell_type": "code",
   "execution_count": 12,
   "metadata": {
    "id": "Bu1WWk6_Pyof"
   },
   "outputs": [
    {
     "name": "stdout",
     "output_type": "stream",
     "text": [
      "Emulator 'quickstart-model' has begun training.\n",
      "0:00:00: Job status: processing\n",
      "0:00:01: Job status: success\n",
      "Training of emulator quickstart-model is complete!\n"
     ]
    }
   ],
   "source": [
    "# Define the training parameters for the emulator.\n",
    "# For example, here we set the train_test_ratio to 1, meaning that the entire dataset will be used for training.\n",
    "\n",
    "\n",
    "# Train the emulator using the train method\n",
    "emulator.train(dataset=dataset, inputs=[\"x\"], outputs=[\"y\"], params=params)"
   ]
  },
  {
   "cell_type": "markdown",
   "metadata": {},
   "source": [
    "### **5. View emulators**"
   ]
  },
  {
   "cell_type": "markdown",
   "metadata": {},
   "source": [
    "Just as with datasets, all saved emulators can be listed using the `tl.list_emulators` function."
   ]
  },
  {
   "cell_type": "code",
   "execution_count": 13,
   "metadata": {},
   "outputs": [
    {
     "data": {
      "text/plain": [
       "['quickstart-model']"
      ]
     },
     "execution_count": 13,
     "metadata": {},
     "output_type": "execute_result"
    }
   ],
   "source": [
    "# List emulators\n",
    "tl.list_emulators()"
   ]
  },
  {
   "cell_type": "markdown",
   "metadata": {},
   "source": [
    "You can also view all the arguments required to create an emulator and the values specified for each of these using the `Emulator.view()` function. \n",
    "\n",
    "The output with this function is a dictionary with all the arguments and their corresponding values as initialised by you when you trained or created the emulator (or the default values, if you didn't specify)."
   ]
  },
  {
   "cell_type": "code",
   "execution_count": 14,
   "metadata": {},
   "outputs": [
    {
     "data": {
      "text/plain": [
       "{'meta_data': {'author': 'jamie@digilab.co.uk',\n",
       "  'version': '3.2.0',\n",
       "  'campaign': 'personal',\n",
       "  'description': 'A twinLab emulator.',\n",
       "  'organization': 'digiLab',\n",
       "  'timestamp': '2024-08-27 13:49:02'},\n",
       " 'emulator_params': {'inputs': ['x'],\n",
       "  'outputs': ['y'],\n",
       "  'estimator': 'gaussian_process_regression',\n",
       "  'estimator_params': {'detrend': False,\n",
       "   'kernel': None,\n",
       "   'estimator_type': 'single_task_gp'},\n",
       "  'fidelity': None,\n",
       "  'class_column': None,\n",
       "  'decompose_inputs': False,\n",
       "  'decompose_outputs': False,\n",
       "  'input_explained_variance': None,\n",
       "  'input_retained_dimensions': None,\n",
       "  'output_explained_variance': None,\n",
       "  'output_retained_dimensions': None},\n",
       " 'training_params': {'dataset_id': 'quickstart',\n",
       "  'dataset_std_id': None,\n",
       "  'train_test_ratio': 1.0,\n",
       "  'model_selection': False,\n",
       "  'model_selection_kwargs': {'seed': None,\n",
       "   'evaluation_metric': 'MSLL',\n",
       "   'val_ratio': 0.2,\n",
       "   'base_kernels': 'restricted',\n",
       "   'depth': 1,\n",
       "   'beam': 2},\n",
       "  'shuffle': True,\n",
       "  'seed': 42}}"
      ]
     },
     "execution_count": 14,
     "metadata": {},
     "output_type": "execute_result"
    }
   ],
   "source": [
    "# View an emulator's parameters\n",
    "emulator.view()"
   ]
  },
  {
   "cell_type": "markdown",
   "metadata": {},
   "source": [
    "You can also find a summary of all the statistical details of your emulator with the `Emulator.summarise()` function. This function will give you all the information you need to know about the emulator you've trained, including the learnt parameters of the kernel function, mean function, noise variances, and much more useful information about your emulator.\n",
    "\n",
    "To get a very detailed summary of your emulator, set the `detailed` parameter to `True`."
   ]
  },
  {
   "cell_type": "code",
   "execution_count": 15,
   "metadata": {},
   "outputs": [
    {
     "name": "stdout",
     "output_type": "stream",
     "text": [
      "{'kernel': {'kernel_function_used': 'ScaleKernel(  (base_kernel): '\n",
      "                                    'MaternKernel(    (lengthscale_prior): '\n",
      "                                    'GammaPrior()    '\n",
      "                                    '(raw_lengthscale_constraint): Positive()  '\n",
      "                                    ')  (outputscale_prior): GammaPrior()  '\n",
      "                                    '(raw_outputscale_constraint): Positive())',\n",
      "            'lengthscale': [[0.4234508763532827]],\n",
      "            'outputscale': 1.7115599219254776},\n",
      " 'mean': {'mean': 0.21062309969363022, 'mean_function_used': 'ConstantMean()'},\n",
      " 'properties': {'covariance_noise': [0.030319220370676556]}}\n"
     ]
    }
   ],
   "source": [
    "# View the status of a campaign\n",
    "pprint(emulator.summarise())"
   ]
  },
  {
   "cell_type": "markdown",
   "metadata": {
    "id": "lZb18lzVPyoh"
   },
   "source": [
    "### **Deleting datasets and campaigns**\n",
    "\n",
    "You can delete your datasets and emulators to keep your twinLab cloud account storage tidy. \n",
    "\n",
    "Please be aware that this is permanent. Always consider keeping your data locally backed up. \n",
    "\n",
    "`Emulator.delete` and `Dataset.delete` delete the emulator and the dataset respectively.\n"
   ]
  },
  {
   "cell_type": "code",
   "execution_count": 16,
   "metadata": {
    "id": "h4XcoWyBPyoh"
   },
   "outputs": [],
   "source": [
    "# Delete the emulator\n",
    "emulator.delete()\n",
    "\n",
    "# Delete the dataset\n",
    "dataset.delete()"
   ]
  }
 ],
 "metadata": {
  "colab": {
   "provenance": []
  },
  "kernelspec": {
   "display_name": "Python 3 (ipykernel)",
   "language": "python",
   "name": "python3"
  },
  "language_info": {
   "codemirror_mode": {
    "name": "ipython",
    "version": 3
   },
   "file_extension": ".py",
   "mimetype": "text/x-python",
   "name": "python",
   "nbconvert_exporter": "python",
   "pygments_lexer": "ipython3",
   "version": "3.11.0"
  }
 },
 "nbformat": 4,
 "nbformat_minor": 4
}
