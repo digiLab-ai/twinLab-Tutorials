{
 "cells": [
  {
   "cell_type": "markdown",
   "metadata": {},
   "source": [
    "## **Functional decomposition of a dataset**\n",
    "\n",
    "To effectively utilise Gaussian processes, we must address their limitations in modelling high-dimensional datasets. We advise keeping the dimensionality to be less than 20 in each of the inputs and outputs for optimal performance. Additionally, training on lower-dimensional data allows one to save time and computational resources.\n",
    "\n",
    "Twinlab employs dimensionality reduction techniques and provides users with the option to specify the number of dimensions, or the amount of variance they wish to retain, before training a model. These methods streamline the data, making it feasible to apply GPs on higher-dimensional datasets, even those with many hundreds or even thousands of input or output features.\n",
    "\n",
    "This notebook will explain how to utilise the `analyse_variance`method on your dataset to make informed decisions about how to effectively process the dataset you wish to train.\n"
   ]
  },
  {
   "cell_type": "code",
   "execution_count": 1,
   "metadata": {},
   "outputs": [
    {
     "name": "stdout",
     "output_type": "stream",
     "text": [
      "\n",
      "          ====== TwinLab Client Initialisation ======\n",
      "          Version     : 2.10.0\n",
      "          User        : alexander@digilab.co.uk\n",
      "          Server      : https://twinlab.digilab.co.uk/v3\n",
      "          Environment : /Users/mead/digiLab/twinLab/tutorials/.env\n",
      "\n"
     ]
    }
   ],
   "source": [
    "import matplotlib.pyplot as plt\n",
    "import twinlab as tl"
   ]
  },
  {
   "cell_type": "markdown",
   "metadata": {},
   "source": [
    "Dimensionality reduction works by using statistical techniques to find correlations between dimensions. It relies on the principle that highly-correlated variables contribute minimal aditional information and so the essential structure of a dataset can be captured in fewer dimensions. The variance retained per dimension directly indicates how much of the original variability of the dataset is preserved, offering insight into the amount of information that can be sumarised in each variable.\n",
    "\n",
    "We will begin by showing how this works on a real dataset. We start by reading the dataset from a CSV file, converting this into a twinLab `Dataset` and updloading the data to the cloud.\n"
   ]
  },
  {
   "cell_type": "code",
   "execution_count": 2,
   "metadata": {},
   "outputs": [],
   "source": [
    "# Load the data from the twinLab examples\n",
    "df_train = tl.load_example_dataset(\"tritium-desorption-small\")\n",
    "\n",
    "# Initialising and uploading a dataset\n",
    "training_dataset = tl.Dataset(\"fusion_dataset\")\n",
    "training_dataset.upload(df_train)\n",
    "\n",
    "# Defining the inputs and output variables\n",
    "input_columns = [\"E1\", \"E2\", \"E3\", \"n1\", \"n2\"]\n",
    "output_columns = [f\"y{i}\" for i in range(0, df_train.shape[1] - len(input_columns))]"
   ]
  },
  {
   "cell_type": "markdown",
   "metadata": {},
   "source": [
    "The dataset contains datapoints with 5 input dimensions and 624 output dimensions! The number of output dimensions is particularly high and it might be better to train our emulators on truncated outputs for efficient and effective training. With that purpose, we can use `analyse_variance` to explore how many dimmensions we need to achieve a desired overall variance.\n"
   ]
  },
  {
   "cell_type": "code",
   "execution_count": 3,
   "metadata": {},
   "outputs": [
    {
     "data": {
      "text/plain": [
       "'Input variance analysis'"
      ]
     },
     "metadata": {},
     "output_type": "display_data"
    },
    {
     "data": {
      "text/html": [
       "<div>\n",
       "<style scoped>\n",
       "    .dataframe tbody tr th:only-of-type {\n",
       "        vertical-align: middle;\n",
       "    }\n",
       "\n",
       "    .dataframe tbody tr th {\n",
       "        vertical-align: top;\n",
       "    }\n",
       "\n",
       "    .dataframe thead th {\n",
       "        text-align: right;\n",
       "    }\n",
       "</style>\n",
       "<table border=\"1\" class=\"dataframe\">\n",
       "  <thead>\n",
       "    <tr style=\"text-align: right;\">\n",
       "      <th></th>\n",
       "      <th>Number of Dimensions</th>\n",
       "      <th>Cumulative Variance</th>\n",
       "    </tr>\n",
       "  </thead>\n",
       "  <tbody>\n",
       "    <tr>\n",
       "      <th>0</th>\n",
       "      <td>0</td>\n",
       "      <td>0.000000</td>\n",
       "    </tr>\n",
       "    <tr>\n",
       "      <th>1</th>\n",
       "      <td>1</td>\n",
       "      <td>0.406099</td>\n",
       "    </tr>\n",
       "    <tr>\n",
       "      <th>2</th>\n",
       "      <td>2</td>\n",
       "      <td>0.813714</td>\n",
       "    </tr>\n",
       "    <tr>\n",
       "      <th>3</th>\n",
       "      <td>3</td>\n",
       "      <td>0.999969</td>\n",
       "    </tr>\n",
       "    <tr>\n",
       "      <th>4</th>\n",
       "      <td>4</td>\n",
       "      <td>0.999999</td>\n",
       "    </tr>\n",
       "    <tr>\n",
       "      <th>5</th>\n",
       "      <td>5</td>\n",
       "      <td>1.000000</td>\n",
       "    </tr>\n",
       "  </tbody>\n",
       "</table>\n",
       "</div>"
      ],
      "text/plain": [
       "   Number of Dimensions  Cumulative Variance\n",
       "0                     0             0.000000\n",
       "1                     1             0.406099\n",
       "2                     2             0.813714\n",
       "3                     3             0.999969\n",
       "4                     4             0.999999\n",
       "5                     5             1.000000"
      ]
     },
     "metadata": {},
     "output_type": "display_data"
    }
   ],
   "source": [
    "# Analyse variance in the input columns\n",
    "input_variance_df = training_dataset.analyse_variance(columns=input_columns)\n",
    "display(\"Input variance analysis\", input_variance_df)"
   ]
  },
  {
   "cell_type": "code",
   "execution_count": 4,
   "metadata": {},
   "outputs": [
    {
     "data": {
      "text/plain": [
       "'Output variance analysis'"
      ]
     },
     "metadata": {},
     "output_type": "display_data"
    },
    {
     "data": {
      "text/html": [
       "<div>\n",
       "<style scoped>\n",
       "    .dataframe tbody tr th:only-of-type {\n",
       "        vertical-align: middle;\n",
       "    }\n",
       "\n",
       "    .dataframe tbody tr th {\n",
       "        vertical-align: top;\n",
       "    }\n",
       "\n",
       "    .dataframe thead th {\n",
       "        text-align: right;\n",
       "    }\n",
       "</style>\n",
       "<table border=\"1\" class=\"dataframe\">\n",
       "  <thead>\n",
       "    <tr style=\"text-align: right;\">\n",
       "      <th></th>\n",
       "      <th>Number of Dimensions</th>\n",
       "      <th>Cumulative Variance</th>\n",
       "    </tr>\n",
       "  </thead>\n",
       "  <tbody>\n",
       "    <tr>\n",
       "      <th>0</th>\n",
       "      <td>0</td>\n",
       "      <td>0.000000</td>\n",
       "    </tr>\n",
       "    <tr>\n",
       "      <th>1</th>\n",
       "      <td>1</td>\n",
       "      <td>0.265579</td>\n",
       "    </tr>\n",
       "    <tr>\n",
       "      <th>2</th>\n",
       "      <td>2</td>\n",
       "      <td>0.734992</td>\n",
       "    </tr>\n",
       "    <tr>\n",
       "      <th>3</th>\n",
       "      <td>3</td>\n",
       "      <td>0.895238</td>\n",
       "    </tr>\n",
       "    <tr>\n",
       "      <th>4</th>\n",
       "      <td>4</td>\n",
       "      <td>0.969070</td>\n",
       "    </tr>\n",
       "    <tr>\n",
       "      <th>...</th>\n",
       "      <td>...</td>\n",
       "      <td>...</td>\n",
       "    </tr>\n",
       "    <tr>\n",
       "      <th>396</th>\n",
       "      <td>396</td>\n",
       "      <td>1.000000</td>\n",
       "    </tr>\n",
       "    <tr>\n",
       "      <th>397</th>\n",
       "      <td>397</td>\n",
       "      <td>1.000000</td>\n",
       "    </tr>\n",
       "    <tr>\n",
       "      <th>398</th>\n",
       "      <td>398</td>\n",
       "      <td>1.000000</td>\n",
       "    </tr>\n",
       "    <tr>\n",
       "      <th>399</th>\n",
       "      <td>399</td>\n",
       "      <td>1.000000</td>\n",
       "    </tr>\n",
       "    <tr>\n",
       "      <th>400</th>\n",
       "      <td>400</td>\n",
       "      <td>1.000000</td>\n",
       "    </tr>\n",
       "  </tbody>\n",
       "</table>\n",
       "<p>401 rows × 2 columns</p>\n",
       "</div>"
      ],
      "text/plain": [
       "     Number of Dimensions  Cumulative Variance\n",
       "0                       0             0.000000\n",
       "1                       1             0.265579\n",
       "2                       2             0.734992\n",
       "3                       3             0.895238\n",
       "4                       4             0.969070\n",
       "..                    ...                  ...\n",
       "396                   396             1.000000\n",
       "397                   397             1.000000\n",
       "398                   398             1.000000\n",
       "399                   399             1.000000\n",
       "400                   400             1.000000\n",
       "\n",
       "[401 rows x 2 columns]"
      ]
     },
     "metadata": {},
     "output_type": "display_data"
    }
   ],
   "source": [
    "# Analyse variance in the output columns\n",
    "output_variance_df = training_dataset.analyse_variance(columns=output_columns)\n",
    "display(\"Output variance analysis\", output_variance_df)"
   ]
  },
  {
   "cell_type": "markdown",
   "metadata": {},
   "source": [
    "It can be observed that only three dimensions can explain more than 99% of the variance in the case of inputs. For the outputs, the first four dimensions explain more than 95% of the total variance.\n",
    "\n",
    "The results suggest that reducing the dimensions of the dataset would be very beneficial for the effectiveness of subsequent training using Gaussian processes. This is especially true for the outputs as they would go from having 624 dimensions to 6 while maintaining more than 99% of the variance explained.\n",
    "\n",
    "The analysis can be seen more clearly in the following graphs.\n"
   ]
  },
  {
   "cell_type": "code",
   "execution_count": 5,
   "metadata": {},
   "outputs": [
    {
     "data": {
      "image/png": "[encoded data removed]",
      "text/plain": [
       "<Figure size 1200x500 with 2 Axes>"
      ]
     },
     "metadata": {},
     "output_type": "display_data"
    }
   ],
   "source": [
    "# Initialise plot\n",
    "plt.subplots(1, 2, figsize=(12, 5))\n",
    "\n",
    "# Plot the first dataframe on the left-hand plot\n",
    "plt.subplot(1, 2, 1)\n",
    "plt.title(\"Input Variance\")  # , fontsize=20)\n",
    "plt.plot(\n",
    "    input_variance_df[\"Number of Dimensions\"],\n",
    "    input_variance_df[\"Cumulative Variance\"],\n",
    "    linestyle=\":\",\n",
    "    marker=\"o\",\n",
    ")\n",
    "plt.axvline(x=3, color=\"red\", linestyle=\":\", alpha=0.5)\n",
    "plt.axhline(0.99, color=\"red\", linestyle=\":\", alpha=0.5, label=\"99% of variance\")\n",
    "plt.xlabel(\"Number of Dimensions\")\n",
    "plt.xlim(left=0.0)\n",
    "plt.ylabel(\"Cumulative Variance\")\n",
    "plt.ylim(0.0, 1.05)\n",
    "plt.legend()\n",
    "\n",
    "# Plot the second dataframe on the right-hand plot\n",
    "plt.subplot(1, 2, 2)\n",
    "plt.title(\"Ouput Variance\")  # , fontsize=20)\n",
    "plt.plot(\n",
    "    output_variance_df[\"Number of Dimensions\"][:17],\n",
    "    output_variance_df[\"Cumulative Variance\"][:17],\n",
    "    linestyle=\":\",\n",
    "    marker=\"o\",\n",
    ")\n",
    "plt.axvline(x=6, color=\"red\", linestyle=\":\", alpha=0.5)\n",
    "plt.axhline(0.99, color=\"red\", linestyle=\":\", alpha=0.5, label=\"99% of variance\")\n",
    "plt.xlabel(\"Number of Dimensions\")\n",
    "plt.xlim(left=0.0)\n",
    "plt.ylabel(\"Cumulative Variance\")\n",
    "plt.ylim(0.0, 1.05)\n",
    "plt.legend()\n",
    "\n",
    "plt.show()"
   ]
  },
  {
   "cell_type": "markdown",
   "metadata": {},
   "source": [
    "As discussed, the plots show how most of the variance (99%) can be captured with a much lower dimensional dataset for both the input (3 dimensions) and the output (6 dimensions).\n"
   ]
  }
 ],
 "metadata": {
  "kernelspec": {
   "display_name": "twinlab-T1BT2Sfn-py3.9",
   "language": "python",
   "name": "python3"
  },
  "language_info": {
   "codemirror_mode": {
    "name": "ipython",
    "version": 3
   },
   "file_extension": ".py",
   "mimetype": "text/x-python",
   "name": "python",
   "nbconvert_exporter": "python",
   "pygments_lexer": "ipython3",
   "version": "3.10.14"
  }
 },
 "nbformat": 4,
 "nbformat_minor": 2
}
